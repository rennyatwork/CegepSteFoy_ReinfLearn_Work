{
 "cells": [
  {
   "cell_type": "markdown",
   "id": "49a710dc-2e0b-44b8-aef4-b914517fcacc",
   "metadata": {},
   "source": [
    "# Blackjack\n",
    "\n",
    "Découverte de l'environnement blackjack\n",
    "\n",
    "Cours Monte Carlo"
   ]
  },
  {
   "cell_type": "markdown",
   "id": "25696236-9ab4-46a5-bf01-470e8eb07d7e",
   "metadata": {},
   "source": [
    "https://gymnasium.farama.org/environments/toy_text/blackjack/"
   ]
  },
  {
   "cell_type": "code",
   "execution_count": 1,
   "id": "otherwise-muslim",
   "metadata": {},
   "outputs": [],
   "source": [
    "import gymnasium as gym"
   ]
  },
  {
   "cell_type": "code",
   "execution_count": 2,
   "id": "quick-montgomery",
   "metadata": {},
   "outputs": [],
   "source": [
    "env=gym.make('Blackjack-v1')"
   ]
  },
  {
   "cell_type": "markdown",
   "id": "opposed-columbia",
   "metadata": {},
   "source": [
    "***\n",
    "## Etat"
   ]
  },
  {
   "cell_type": "code",
   "execution_count": 3,
   "id": "super-flight",
   "metadata": {},
   "outputs": [
    {
     "data": {
      "text/plain": [
       "((10, 10, 0), {})"
      ]
     },
     "execution_count": 3,
     "metadata": {},
     "output_type": "execute_result"
    }
   ],
   "source": [
    "env.reset()"
   ]
  },
  {
   "cell_type": "markdown",
   "id": "7be45baf-cd09-4fe0-99e5-1db089b4f626",
   "metadata": {},
   "source": [
    "env = valeur de nos cartes, valeur croupier affiché, ai je un as ?"
   ]
  },
  {
   "cell_type": "markdown",
   "id": "third-sculpture",
   "metadata": {},
   "source": [
    "***\n",
    "## Action"
   ]
  },
  {
   "cell_type": "code",
   "execution_count": 4,
   "id": "hazardous-concord",
   "metadata": {},
   "outputs": [
    {
     "data": {
      "text/plain": [
       "Discrete(2)"
      ]
     },
     "execution_count": 4,
     "metadata": {},
     "output_type": "execute_result"
    }
   ],
   "source": [
    "env.action_space"
   ]
  },
  {
   "cell_type": "markdown",
   "id": "73e7ea47-5b5d-4396-ae30-5e7e9b4b33b7",
   "metadata": {},
   "source": [
    "0 = stand, j'arrete<br>\n",
    "1 = hit, je tire une carte"
   ]
  },
  {
   "cell_type": "code",
   "execution_count": 5,
   "id": "massive-christmas",
   "metadata": {
    "scrolled": true
   },
   "outputs": [
    {
     "data": {
      "text/plain": [
       "((19, 10, 0), 0.0, False, False, {})"
      ]
     },
     "execution_count": 5,
     "metadata": {},
     "output_type": "execute_result"
    }
   ],
   "source": [
    "env.step(1)"
   ]
  },
  {
   "cell_type": "markdown",
   "id": "241d1d5e-2fff-4fcc-8b93-94a2e7651aab",
   "metadata": {},
   "source": [
    "Retour :<br>\n",
    "s=(mes points, les points du croupier, ai je un as ?)<br>\n",
    "r=récompense, -1 lose,1 win, 0 égalité<br>\n",
    "Partie terminée (un des joueurs a perdu),<br>\n",
    "Partie terminée (car trop longue),<br>\n",
    "{info}<br>"
   ]
  },
  {
   "cell_type": "code",
   "execution_count": 14,
   "id": "interested-recovery",
   "metadata": {},
   "outputs": [
    {
     "data": {
      "text/plain": [
       "((19, 6, 0), {})"
      ]
     },
     "execution_count": 14,
     "metadata": {},
     "output_type": "execute_result"
    }
   ],
   "source": [
    "env.reset()"
   ]
  },
  {
   "cell_type": "code",
   "execution_count": 13,
   "id": "coupled-pension",
   "metadata": {},
   "outputs": [
    {
     "data": {
      "text/plain": [
       "((30, 2, 0), -1.0, True, False, {})"
      ]
     },
     "execution_count": 13,
     "metadata": {},
     "output_type": "execute_result"
    }
   ],
   "source": [
    "env.step(1)"
   ]
  },
  {
   "cell_type": "code",
   "execution_count": null,
   "id": "turkish-stranger",
   "metadata": {},
   "outputs": [],
   "source": [
    "env.step(0)"
   ]
  },
  {
   "cell_type": "markdown",
   "id": "coupled-realtor",
   "metadata": {},
   "source": [
    "***\n",
    "Définition une politque arbitraire :\n"
   ]
  },
  {
   "cell_type": "code",
   "execution_count": 15,
   "id": "missing-polish",
   "metadata": {},
   "outputs": [],
   "source": [
    "def policy(state):\n",
    "    return 0 if state[0] >19 else 1"
   ]
  },
  {
   "cell_type": "code",
   "execution_count": 16,
   "id": "governing-clark",
   "metadata": {},
   "outputs": [
    {
     "name": "stdout",
     "output_type": "stream",
     "text": [
      "(17, 4, 0)\n"
     ]
    }
   ],
   "source": [
    "state=env.reset()\n",
    "print(state[0])"
   ]
  },
  {
   "cell_type": "code",
   "execution_count": 17,
   "id": "d8c45a90-ef87-41e6-b39a-df17882911e5",
   "metadata": {},
   "outputs": [
    {
     "data": {
      "text/plain": [
       "((17, 4, 0), {})"
      ]
     },
     "execution_count": 17,
     "metadata": {},
     "output_type": "execute_result"
    }
   ],
   "source": [
    "state"
   ]
  },
  {
   "cell_type": "code",
   "execution_count": 18,
   "id": "mature-string",
   "metadata": {},
   "outputs": [
    {
     "data": {
      "text/plain": [
       "1"
      ]
     },
     "execution_count": 18,
     "metadata": {},
     "output_type": "execute_result"
    }
   ],
   "source": [
    "policy(state[0])"
   ]
  },
  {
   "cell_type": "markdown",
   "id": "secret-collect",
   "metadata": {},
   "source": [
    "*** \n",
    "## Générateur d'épisode "
   ]
  },
  {
   "cell_type": "code",
   "execution_count": 24,
   "id": "cultural-thesis",
   "metadata": {},
   "outputs": [],
   "source": [
    "def generate_episode(policy,max_iter):\n",
    "    episode = []\n",
    "    state=env.reset()[0]\n",
    "    for t in range(max_iter):\n",
    "        action = policy(state)\n",
    "        '''\n",
    "        Retour :\n",
    "        s=(mes points, les points du croupier, ai je un as ?)\n",
    "        r=récompense, -1 lose,1 win, 0 égalité\n",
    "        Partie terminée (un des joueurs a perdu),\n",
    "        Partie terminée (car trop longue),\n",
    "        {info}\n",
    "        '''\n",
    "        s_,r,done,stopped,info = env.step(action)\n",
    "        episode.append((state,action,r))\n",
    "        print(f\"jeu {state}, action choisie {action}, jeu obtenu {s_}, Fin = {done}\")\n",
    "        if done:\n",
    "            break\n",
    "        state=s_\n",
    "\n",
    "    return(episode)"
   ]
  },
  {
   "cell_type": "code",
   "execution_count": 25,
   "id": "seventh-proposition",
   "metadata": {},
   "outputs": [
    {
     "name": "stdout",
     "output_type": "stream",
     "text": [
      "jeu (14, 4, 0), action choisie 1, jeu obtenu (15, 4, 0), Fin = False\n",
      "jeu (15, 4, 0), action choisie 1, jeu obtenu (23, 4, 0), Fin = True\n"
     ]
    },
    {
     "data": {
      "text/plain": [
       "[((14, 4, 0), 1, 0.0), ((15, 4, 0), 1, -1.0)]"
      ]
     },
     "execution_count": 25,
     "metadata": {},
     "output_type": "execute_result"
    }
   ],
   "source": [
    "generate_episode(policy,100)"
   ]
  },
  {
   "cell_type": "code",
   "execution_count": null,
   "id": "brave-oliver",
   "metadata": {},
   "outputs": [],
   "source": []
  }
 ],
 "metadata": {
  "kernelspec": {
   "display_name": "Python 3 (ipykernel)",
   "language": "python",
   "name": "python3"
  },
  "language_info": {
   "codemirror_mode": {
    "name": "ipython",
    "version": 3
   },
   "file_extension": ".py",
   "mimetype": "text/x-python",
   "name": "python",
   "nbconvert_exporter": "python",
   "pygments_lexer": "ipython3",
   "version": "3.12.3"
  }
 },
 "nbformat": 4,
 "nbformat_minor": 5
}
