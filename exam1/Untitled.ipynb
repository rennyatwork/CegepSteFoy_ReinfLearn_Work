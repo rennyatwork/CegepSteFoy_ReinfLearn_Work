{
 "cells": [
  {
   "cell_type": "code",
   "execution_count": 1,
   "id": "2f4c579e-c451-465a-b760-d8108464a739",
   "metadata": {},
   "outputs": [
    {
     "name": "stdout",
     "output_type": "stream",
     "text": [
      "vai se foder filho da puta\n"
     ]
    }
   ],
   "source": [
    "print('vai se foder filho da puta')"
   ]
  }
 ],
 "metadata": {
  "kernelspec": {
   "display_name": "Python 3 (ipykernel)",
   "language": "python",
   "name": "python3"
  },
  "language_info": {
   "codemirror_mode": {
    "name": "ipython",
    "version": 3
   },
   "file_extension": ".py",
   "mimetype": "text/x-python",
   "name": "python",
   "nbconvert_exporter": "python",
   "pygments_lexer": "ipython3",
   "version": "3.12.3"
  }
 },
 "nbformat": 4,
 "nbformat_minor": 5
}
