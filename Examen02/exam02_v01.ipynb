{
  "nbformat": 4,
  "nbformat_minor": 0,
  "metadata": {
    "colab": {
      "provenance": [],
      "authorship_tag": "ABX9TyOOy2ei0Y/a4MWe7XCTvp0m",
      "include_colab_link": true
    },
    "kernelspec": {
      "name": "python3",
      "display_name": "Python 3"
    },
    "language_info": {
      "name": "python"
    }
  },
  "cells": [
    {
      "cell_type": "markdown",
      "metadata": {
        "id": "view-in-github",
        "colab_type": "text"
      },
      "source": [
        "<a href=\"https://colab.research.google.com/github/rennyatwork/CegepSteFoy_ReinfLearn_Work/blob/main/Examen02/exam02_v01.ipynb\" target=\"_parent\"><img src=\"https://colab.research.google.com/assets/colab-badge.svg\" alt=\"Open In Colab\"/></a>"
      ]
    },
    {
      "cell_type": "code",
      "execution_count": null,
      "metadata": {
        "id": "pHZodwlBuLn-"
      },
      "outputs": [],
      "source": [
        "## url_g029\n",
        "!pip install -r 'https://raw.githubusercontent.com/rennyatwork/CegepSteFoy_ReinfLearn_Work/refs/heads/main/requirementsg029t217.txt'"
      ]
    },
    {
      "cell_type": "code",
      "source": [
        "## url_g1\n",
        "!pip install -r 'https://raw.githubusercontent.com/rennyatwork/CegepSteFoy_ReinfLearn_Work/refs/heads/main/requirementsg100t218.txt'"
      ],
      "metadata": {
        "colab": {
          "base_uri": "https://localhost:8080/"
        },
        "id": "7Fanws7IvuJz",
        "outputId": "ab19ee07-6da9-4f7a-df59-c4f3d2bd7826"
      },
      "execution_count": 6,
      "outputs": [
        {
          "output_type": "stream",
          "name": "stdout",
          "text": [
            "Requirement already satisfied: numpy in /usr/local/lib/python3.10/dist-packages (from -r https://raw.githubusercontent.com/rennyatwork/CegepSteFoy_ReinfLearn_Work/refs/heads/main/requirementsg100t218.txt (line 1)) (1.26.4)\n",
            "Collecting gymnasium==1.0.0 (from -r https://raw.githubusercontent.com/rennyatwork/CegepSteFoy_ReinfLearn_Work/refs/heads/main/requirementsg100t218.txt (line 2))\n",
            "  Downloading gymnasium-1.0.0-py3-none-any.whl.metadata (9.5 kB)\n",
            "Collecting tensorflow==2.18.0 (from -r https://raw.githubusercontent.com/rennyatwork/CegepSteFoy_ReinfLearn_Work/refs/heads/main/requirementsg100t218.txt (line 3))\n",
            "  Downloading tensorflow-2.18.0-cp310-cp310-manylinux_2_17_x86_64.manylinux2014_x86_64.whl.metadata (4.1 kB)\n",
            "Requirement already satisfied: matplotlib in /usr/local/lib/python3.10/dist-packages (from -r https://raw.githubusercontent.com/rennyatwork/CegepSteFoy_ReinfLearn_Work/refs/heads/main/requirementsg100t218.txt (line 4)) (3.8.0)\n",
            "Requirement already satisfied: notebook in /usr/local/lib/python3.10/dist-packages (from -r https://raw.githubusercontent.com/rennyatwork/CegepSteFoy_ReinfLearn_Work/refs/heads/main/requirementsg100t218.txt (line 5)) (6.5.5)\n",
            "Requirement already satisfied: cloudpickle>=1.2.0 in /usr/local/lib/python3.10/dist-packages (from gymnasium==1.0.0->-r https://raw.githubusercontent.com/rennyatwork/CegepSteFoy_ReinfLearn_Work/refs/heads/main/requirementsg100t218.txt (line 2)) (3.1.0)\n",
            "Requirement already satisfied: typing-extensions>=4.3.0 in /usr/local/lib/python3.10/dist-packages (from gymnasium==1.0.0->-r https://raw.githubusercontent.com/rennyatwork/CegepSteFoy_ReinfLearn_Work/refs/heads/main/requirementsg100t218.txt (line 2)) (4.12.2)\n",
            "Requirement already satisfied: farama-notifications>=0.0.1 in /usr/local/lib/python3.10/dist-packages (from gymnasium==1.0.0->-r https://raw.githubusercontent.com/rennyatwork/CegepSteFoy_ReinfLearn_Work/refs/heads/main/requirementsg100t218.txt (line 2)) (0.0.4)\n",
            "Requirement already satisfied: absl-py>=1.0.0 in /usr/local/lib/python3.10/dist-packages (from tensorflow==2.18.0->-r https://raw.githubusercontent.com/rennyatwork/CegepSteFoy_ReinfLearn_Work/refs/heads/main/requirementsg100t218.txt (line 3)) (1.4.0)\n",
            "Requirement already satisfied: astunparse>=1.6.0 in /usr/local/lib/python3.10/dist-packages (from tensorflow==2.18.0->-r https://raw.githubusercontent.com/rennyatwork/CegepSteFoy_ReinfLearn_Work/refs/heads/main/requirementsg100t218.txt (line 3)) (1.6.3)\n",
            "Requirement already satisfied: flatbuffers>=24.3.25 in /usr/local/lib/python3.10/dist-packages (from tensorflow==2.18.0->-r https://raw.githubusercontent.com/rennyatwork/CegepSteFoy_ReinfLearn_Work/refs/heads/main/requirementsg100t218.txt (line 3)) (24.3.25)\n",
            "Requirement already satisfied: gast!=0.5.0,!=0.5.1,!=0.5.2,>=0.2.1 in /usr/local/lib/python3.10/dist-packages (from tensorflow==2.18.0->-r https://raw.githubusercontent.com/rennyatwork/CegepSteFoy_ReinfLearn_Work/refs/heads/main/requirementsg100t218.txt (line 3)) (0.6.0)\n",
            "Requirement already satisfied: google-pasta>=0.1.1 in /usr/local/lib/python3.10/dist-packages (from tensorflow==2.18.0->-r https://raw.githubusercontent.com/rennyatwork/CegepSteFoy_ReinfLearn_Work/refs/heads/main/requirementsg100t218.txt (line 3)) (0.2.0)\n",
            "Requirement already satisfied: libclang>=13.0.0 in /usr/local/lib/python3.10/dist-packages (from tensorflow==2.18.0->-r https://raw.githubusercontent.com/rennyatwork/CegepSteFoy_ReinfLearn_Work/refs/heads/main/requirementsg100t218.txt (line 3)) (18.1.1)\n",
            "Requirement already satisfied: opt-einsum>=2.3.2 in /usr/local/lib/python3.10/dist-packages (from tensorflow==2.18.0->-r https://raw.githubusercontent.com/rennyatwork/CegepSteFoy_ReinfLearn_Work/refs/heads/main/requirementsg100t218.txt (line 3)) (3.4.0)\n",
            "Requirement already satisfied: packaging in /usr/local/lib/python3.10/dist-packages (from tensorflow==2.18.0->-r https://raw.githubusercontent.com/rennyatwork/CegepSteFoy_ReinfLearn_Work/refs/heads/main/requirementsg100t218.txt (line 3)) (24.1)\n",
            "Requirement already satisfied: protobuf!=4.21.0,!=4.21.1,!=4.21.2,!=4.21.3,!=4.21.4,!=4.21.5,<6.0.0dev,>=3.20.3 in /usr/local/lib/python3.10/dist-packages (from tensorflow==2.18.0->-r https://raw.githubusercontent.com/rennyatwork/CegepSteFoy_ReinfLearn_Work/refs/heads/main/requirementsg100t218.txt (line 3)) (3.20.3)\n",
            "Requirement already satisfied: requests<3,>=2.21.0 in /usr/local/lib/python3.10/dist-packages (from tensorflow==2.18.0->-r https://raw.githubusercontent.com/rennyatwork/CegepSteFoy_ReinfLearn_Work/refs/heads/main/requirementsg100t218.txt (line 3)) (2.32.3)\n",
            "Requirement already satisfied: setuptools in /usr/local/lib/python3.10/dist-packages (from tensorflow==2.18.0->-r https://raw.githubusercontent.com/rennyatwork/CegepSteFoy_ReinfLearn_Work/refs/heads/main/requirementsg100t218.txt (line 3)) (75.1.0)\n",
            "Requirement already satisfied: six>=1.12.0 in /usr/local/lib/python3.10/dist-packages (from tensorflow==2.18.0->-r https://raw.githubusercontent.com/rennyatwork/CegepSteFoy_ReinfLearn_Work/refs/heads/main/requirementsg100t218.txt (line 3)) (1.16.0)\n",
            "Requirement already satisfied: termcolor>=1.1.0 in /usr/local/lib/python3.10/dist-packages (from tensorflow==2.18.0->-r https://raw.githubusercontent.com/rennyatwork/CegepSteFoy_ReinfLearn_Work/refs/heads/main/requirementsg100t218.txt (line 3)) (2.5.0)\n",
            "Requirement already satisfied: wrapt>=1.11.0 in /usr/local/lib/python3.10/dist-packages (from tensorflow==2.18.0->-r https://raw.githubusercontent.com/rennyatwork/CegepSteFoy_ReinfLearn_Work/refs/heads/main/requirementsg100t218.txt (line 3)) (1.16.0)\n",
            "Requirement already satisfied: grpcio<2.0,>=1.24.3 in /usr/local/lib/python3.10/dist-packages (from tensorflow==2.18.0->-r https://raw.githubusercontent.com/rennyatwork/CegepSteFoy_ReinfLearn_Work/refs/heads/main/requirementsg100t218.txt (line 3)) (1.64.1)\n",
            "Collecting tensorboard<2.19,>=2.18 (from tensorflow==2.18.0->-r https://raw.githubusercontent.com/rennyatwork/CegepSteFoy_ReinfLearn_Work/refs/heads/main/requirementsg100t218.txt (line 3))\n",
            "  Downloading tensorboard-2.18.0-py3-none-any.whl.metadata (1.6 kB)\n",
            "Collecting keras>=3.5.0 (from tensorflow==2.18.0->-r https://raw.githubusercontent.com/rennyatwork/CegepSteFoy_ReinfLearn_Work/refs/heads/main/requirementsg100t218.txt (line 3))\n",
            "  Downloading keras-3.6.0-py3-none-any.whl.metadata (5.8 kB)\n",
            "Requirement already satisfied: h5py>=3.11.0 in /usr/local/lib/python3.10/dist-packages (from tensorflow==2.18.0->-r https://raw.githubusercontent.com/rennyatwork/CegepSteFoy_ReinfLearn_Work/refs/heads/main/requirementsg100t218.txt (line 3)) (3.12.1)\n",
            "Requirement already satisfied: ml-dtypes<0.5.0,>=0.4.0 in /usr/local/lib/python3.10/dist-packages (from tensorflow==2.18.0->-r https://raw.githubusercontent.com/rennyatwork/CegepSteFoy_ReinfLearn_Work/refs/heads/main/requirementsg100t218.txt (line 3)) (0.4.1)\n",
            "Requirement already satisfied: tensorflow-io-gcs-filesystem>=0.23.1 in /usr/local/lib/python3.10/dist-packages (from tensorflow==2.18.0->-r https://raw.githubusercontent.com/rennyatwork/CegepSteFoy_ReinfLearn_Work/refs/heads/main/requirementsg100t218.txt (line 3)) (0.37.1)\n",
            "Requirement already satisfied: contourpy>=1.0.1 in /usr/local/lib/python3.10/dist-packages (from matplotlib->-r https://raw.githubusercontent.com/rennyatwork/CegepSteFoy_ReinfLearn_Work/refs/heads/main/requirementsg100t218.txt (line 4)) (1.3.0)\n",
            "Requirement already satisfied: cycler>=0.10 in /usr/local/lib/python3.10/dist-packages (from matplotlib->-r https://raw.githubusercontent.com/rennyatwork/CegepSteFoy_ReinfLearn_Work/refs/heads/main/requirementsg100t218.txt (line 4)) (0.12.1)\n",
            "Requirement already satisfied: fonttools>=4.22.0 in /usr/local/lib/python3.10/dist-packages (from matplotlib->-r https://raw.githubusercontent.com/rennyatwork/CegepSteFoy_ReinfLearn_Work/refs/heads/main/requirementsg100t218.txt (line 4)) (4.54.1)\n",
            "Requirement already satisfied: kiwisolver>=1.0.1 in /usr/local/lib/python3.10/dist-packages (from matplotlib->-r https://raw.githubusercontent.com/rennyatwork/CegepSteFoy_ReinfLearn_Work/refs/heads/main/requirementsg100t218.txt (line 4)) (1.4.7)\n",
            "Requirement already satisfied: pillow>=6.2.0 in /usr/local/lib/python3.10/dist-packages (from matplotlib->-r https://raw.githubusercontent.com/rennyatwork/CegepSteFoy_ReinfLearn_Work/refs/heads/main/requirementsg100t218.txt (line 4)) (10.4.0)\n",
            "Requirement already satisfied: pyparsing>=2.3.1 in /usr/local/lib/python3.10/dist-packages (from matplotlib->-r https://raw.githubusercontent.com/rennyatwork/CegepSteFoy_ReinfLearn_Work/refs/heads/main/requirementsg100t218.txt (line 4)) (3.2.0)\n",
            "Requirement already satisfied: python-dateutil>=2.7 in /usr/local/lib/python3.10/dist-packages (from matplotlib->-r https://raw.githubusercontent.com/rennyatwork/CegepSteFoy_ReinfLearn_Work/refs/heads/main/requirementsg100t218.txt (line 4)) (2.8.2)\n",
            "Requirement already satisfied: jinja2 in /usr/local/lib/python3.10/dist-packages (from notebook->-r https://raw.githubusercontent.com/rennyatwork/CegepSteFoy_ReinfLearn_Work/refs/heads/main/requirementsg100t218.txt (line 5)) (3.1.4)\n",
            "Requirement already satisfied: tornado>=6.1 in /usr/local/lib/python3.10/dist-packages (from notebook->-r https://raw.githubusercontent.com/rennyatwork/CegepSteFoy_ReinfLearn_Work/refs/heads/main/requirementsg100t218.txt (line 5)) (6.3.3)\n",
            "Requirement already satisfied: pyzmq<25,>=17 in /usr/local/lib/python3.10/dist-packages (from notebook->-r https://raw.githubusercontent.com/rennyatwork/CegepSteFoy_ReinfLearn_Work/refs/heads/main/requirementsg100t218.txt (line 5)) (24.0.1)\n",
            "Requirement already satisfied: argon2-cffi in /usr/local/lib/python3.10/dist-packages (from notebook->-r https://raw.githubusercontent.com/rennyatwork/CegepSteFoy_ReinfLearn_Work/refs/heads/main/requirementsg100t218.txt (line 5)) (23.1.0)\n",
            "Requirement already satisfied: traitlets>=4.2.1 in /usr/local/lib/python3.10/dist-packages (from notebook->-r https://raw.githubusercontent.com/rennyatwork/CegepSteFoy_ReinfLearn_Work/refs/heads/main/requirementsg100t218.txt (line 5)) (5.7.1)\n",
            "Requirement already satisfied: jupyter-core>=4.6.1 in /usr/local/lib/python3.10/dist-packages (from notebook->-r https://raw.githubusercontent.com/rennyatwork/CegepSteFoy_ReinfLearn_Work/refs/heads/main/requirementsg100t218.txt (line 5)) (5.7.2)\n",
            "Requirement already satisfied: jupyter-client<8,>=5.3.4 in /usr/local/lib/python3.10/dist-packages (from notebook->-r https://raw.githubusercontent.com/rennyatwork/CegepSteFoy_ReinfLearn_Work/refs/heads/main/requirementsg100t218.txt (line 5)) (6.1.12)\n",
            "Requirement already satisfied: ipython-genutils in /usr/local/lib/python3.10/dist-packages (from notebook->-r https://raw.githubusercontent.com/rennyatwork/CegepSteFoy_ReinfLearn_Work/refs/heads/main/requirementsg100t218.txt (line 5)) (0.2.0)\n",
            "Requirement already satisfied: nbformat in /usr/local/lib/python3.10/dist-packages (from notebook->-r https://raw.githubusercontent.com/rennyatwork/CegepSteFoy_ReinfLearn_Work/refs/heads/main/requirementsg100t218.txt (line 5)) (5.10.4)\n",
            "Requirement already satisfied: nbconvert>=5 in /usr/local/lib/python3.10/dist-packages (from notebook->-r https://raw.githubusercontent.com/rennyatwork/CegepSteFoy_ReinfLearn_Work/refs/heads/main/requirementsg100t218.txt (line 5)) (7.16.4)\n",
            "Requirement already satisfied: nest-asyncio>=1.5 in /usr/local/lib/python3.10/dist-packages (from notebook->-r https://raw.githubusercontent.com/rennyatwork/CegepSteFoy_ReinfLearn_Work/refs/heads/main/requirementsg100t218.txt (line 5)) (1.6.0)\n",
            "Requirement already satisfied: ipykernel in /usr/local/lib/python3.10/dist-packages (from notebook->-r https://raw.githubusercontent.com/rennyatwork/CegepSteFoy_ReinfLearn_Work/refs/heads/main/requirementsg100t218.txt (line 5)) (5.5.6)\n",
            "Requirement already satisfied: Send2Trash>=1.8.0 in /usr/local/lib/python3.10/dist-packages (from notebook->-r https://raw.githubusercontent.com/rennyatwork/CegepSteFoy_ReinfLearn_Work/refs/heads/main/requirementsg100t218.txt (line 5)) (1.8.3)\n",
            "Requirement already satisfied: terminado>=0.8.3 in /usr/local/lib/python3.10/dist-packages (from notebook->-r https://raw.githubusercontent.com/rennyatwork/CegepSteFoy_ReinfLearn_Work/refs/heads/main/requirementsg100t218.txt (line 5)) (0.18.1)\n",
            "Requirement already satisfied: prometheus-client in /usr/local/lib/python3.10/dist-packages (from notebook->-r https://raw.githubusercontent.com/rennyatwork/CegepSteFoy_ReinfLearn_Work/refs/heads/main/requirementsg100t218.txt (line 5)) (0.21.0)\n",
            "Requirement already satisfied: nbclassic>=0.4.7 in /usr/local/lib/python3.10/dist-packages (from notebook->-r https://raw.githubusercontent.com/rennyatwork/CegepSteFoy_ReinfLearn_Work/refs/heads/main/requirementsg100t218.txt (line 5)) (1.1.0)\n",
            "Requirement already satisfied: wheel<1.0,>=0.23.0 in /usr/local/lib/python3.10/dist-packages (from astunparse>=1.6.0->tensorflow==2.18.0->-r https://raw.githubusercontent.com/rennyatwork/CegepSteFoy_ReinfLearn_Work/refs/heads/main/requirementsg100t218.txt (line 3)) (0.44.0)\n",
            "Requirement already satisfied: platformdirs>=2.5 in /usr/local/lib/python3.10/dist-packages (from jupyter-core>=4.6.1->notebook->-r https://raw.githubusercontent.com/rennyatwork/CegepSteFoy_ReinfLearn_Work/refs/heads/main/requirementsg100t218.txt (line 5)) (4.3.6)\n",
            "Requirement already satisfied: rich in /usr/local/lib/python3.10/dist-packages (from keras>=3.5.0->tensorflow==2.18.0->-r https://raw.githubusercontent.com/rennyatwork/CegepSteFoy_ReinfLearn_Work/refs/heads/main/requirementsg100t218.txt (line 3)) (13.9.3)\n",
            "Requirement already satisfied: namex in /usr/local/lib/python3.10/dist-packages (from keras>=3.5.0->tensorflow==2.18.0->-r https://raw.githubusercontent.com/rennyatwork/CegepSteFoy_ReinfLearn_Work/refs/heads/main/requirementsg100t218.txt (line 3)) (0.0.8)\n",
            "Requirement already satisfied: optree in /usr/local/lib/python3.10/dist-packages (from keras>=3.5.0->tensorflow==2.18.0->-r https://raw.githubusercontent.com/rennyatwork/CegepSteFoy_ReinfLearn_Work/refs/heads/main/requirementsg100t218.txt (line 3)) (0.13.0)\n",
            "Requirement already satisfied: notebook-shim>=0.2.3 in /usr/local/lib/python3.10/dist-packages (from nbclassic>=0.4.7->notebook->-r https://raw.githubusercontent.com/rennyatwork/CegepSteFoy_ReinfLearn_Work/refs/heads/main/requirementsg100t218.txt (line 5)) (0.2.4)\n",
            "Requirement already satisfied: beautifulsoup4 in /usr/local/lib/python3.10/dist-packages (from nbconvert>=5->notebook->-r https://raw.githubusercontent.com/rennyatwork/CegepSteFoy_ReinfLearn_Work/refs/heads/main/requirementsg100t218.txt (line 5)) (4.12.3)\n",
            "Requirement already satisfied: bleach!=5.0.0 in /usr/local/lib/python3.10/dist-packages (from nbconvert>=5->notebook->-r https://raw.githubusercontent.com/rennyatwork/CegepSteFoy_ReinfLearn_Work/refs/heads/main/requirementsg100t218.txt (line 5)) (6.2.0)\n",
            "Requirement already satisfied: defusedxml in /usr/local/lib/python3.10/dist-packages (from nbconvert>=5->notebook->-r https://raw.githubusercontent.com/rennyatwork/CegepSteFoy_ReinfLearn_Work/refs/heads/main/requirementsg100t218.txt (line 5)) (0.7.1)\n",
            "Requirement already satisfied: jupyterlab-pygments in /usr/local/lib/python3.10/dist-packages (from nbconvert>=5->notebook->-r https://raw.githubusercontent.com/rennyatwork/CegepSteFoy_ReinfLearn_Work/refs/heads/main/requirementsg100t218.txt (line 5)) (0.3.0)\n",
            "Requirement already satisfied: markupsafe>=2.0 in /usr/local/lib/python3.10/dist-packages (from nbconvert>=5->notebook->-r https://raw.githubusercontent.com/rennyatwork/CegepSteFoy_ReinfLearn_Work/refs/heads/main/requirementsg100t218.txt (line 5)) (3.0.2)\n",
            "Requirement already satisfied: mistune<4,>=2.0.3 in /usr/local/lib/python3.10/dist-packages (from nbconvert>=5->notebook->-r https://raw.githubusercontent.com/rennyatwork/CegepSteFoy_ReinfLearn_Work/refs/heads/main/requirementsg100t218.txt (line 5)) (3.0.2)\n",
            "Requirement already satisfied: nbclient>=0.5.0 in /usr/local/lib/python3.10/dist-packages (from nbconvert>=5->notebook->-r https://raw.githubusercontent.com/rennyatwork/CegepSteFoy_ReinfLearn_Work/refs/heads/main/requirementsg100t218.txt (line 5)) (0.10.0)\n",
            "Requirement already satisfied: pandocfilters>=1.4.1 in /usr/local/lib/python3.10/dist-packages (from nbconvert>=5->notebook->-r https://raw.githubusercontent.com/rennyatwork/CegepSteFoy_ReinfLearn_Work/refs/heads/main/requirementsg100t218.txt (line 5)) (1.5.1)\n",
            "Requirement already satisfied: pygments>=2.4.1 in /usr/local/lib/python3.10/dist-packages (from nbconvert>=5->notebook->-r https://raw.githubusercontent.com/rennyatwork/CegepSteFoy_ReinfLearn_Work/refs/heads/main/requirementsg100t218.txt (line 5)) (2.18.0)\n",
            "Requirement already satisfied: tinycss2 in /usr/local/lib/python3.10/dist-packages (from nbconvert>=5->notebook->-r https://raw.githubusercontent.com/rennyatwork/CegepSteFoy_ReinfLearn_Work/refs/heads/main/requirementsg100t218.txt (line 5)) (1.4.0)\n",
            "Requirement already satisfied: fastjsonschema>=2.15 in /usr/local/lib/python3.10/dist-packages (from nbformat->notebook->-r https://raw.githubusercontent.com/rennyatwork/CegepSteFoy_ReinfLearn_Work/refs/heads/main/requirementsg100t218.txt (line 5)) (2.20.0)\n",
            "Requirement already satisfied: jsonschema>=2.6 in /usr/local/lib/python3.10/dist-packages (from nbformat->notebook->-r https://raw.githubusercontent.com/rennyatwork/CegepSteFoy_ReinfLearn_Work/refs/heads/main/requirementsg100t218.txt (line 5)) (4.23.0)\n",
            "Requirement already satisfied: charset-normalizer<4,>=2 in /usr/local/lib/python3.10/dist-packages (from requests<3,>=2.21.0->tensorflow==2.18.0->-r https://raw.githubusercontent.com/rennyatwork/CegepSteFoy_ReinfLearn_Work/refs/heads/main/requirementsg100t218.txt (line 3)) (3.4.0)\n",
            "Requirement already satisfied: idna<4,>=2.5 in /usr/local/lib/python3.10/dist-packages (from requests<3,>=2.21.0->tensorflow==2.18.0->-r https://raw.githubusercontent.com/rennyatwork/CegepSteFoy_ReinfLearn_Work/refs/heads/main/requirementsg100t218.txt (line 3)) (3.10)\n",
            "Requirement already satisfied: urllib3<3,>=1.21.1 in /usr/local/lib/python3.10/dist-packages (from requests<3,>=2.21.0->tensorflow==2.18.0->-r https://raw.githubusercontent.com/rennyatwork/CegepSteFoy_ReinfLearn_Work/refs/heads/main/requirementsg100t218.txt (line 3)) (2.2.3)\n",
            "Requirement already satisfied: certifi>=2017.4.17 in /usr/local/lib/python3.10/dist-packages (from requests<3,>=2.21.0->tensorflow==2.18.0->-r https://raw.githubusercontent.com/rennyatwork/CegepSteFoy_ReinfLearn_Work/refs/heads/main/requirementsg100t218.txt (line 3)) (2024.8.30)\n",
            "Requirement already satisfied: markdown>=2.6.8 in /usr/local/lib/python3.10/dist-packages (from tensorboard<2.19,>=2.18->tensorflow==2.18.0->-r https://raw.githubusercontent.com/rennyatwork/CegepSteFoy_ReinfLearn_Work/refs/heads/main/requirementsg100t218.txt (line 3)) (3.7)\n",
            "Requirement already satisfied: tensorboard-data-server<0.8.0,>=0.7.0 in /usr/local/lib/python3.10/dist-packages (from tensorboard<2.19,>=2.18->tensorflow==2.18.0->-r https://raw.githubusercontent.com/rennyatwork/CegepSteFoy_ReinfLearn_Work/refs/heads/main/requirementsg100t218.txt (line 3)) (0.7.2)\n",
            "Requirement already satisfied: werkzeug>=1.0.1 in /usr/local/lib/python3.10/dist-packages (from tensorboard<2.19,>=2.18->tensorflow==2.18.0->-r https://raw.githubusercontent.com/rennyatwork/CegepSteFoy_ReinfLearn_Work/refs/heads/main/requirementsg100t218.txt (line 3)) (3.0.6)\n",
            "Requirement already satisfied: ptyprocess in /usr/local/lib/python3.10/dist-packages (from terminado>=0.8.3->notebook->-r https://raw.githubusercontent.com/rennyatwork/CegepSteFoy_ReinfLearn_Work/refs/heads/main/requirementsg100t218.txt (line 5)) (0.7.0)\n",
            "Requirement already satisfied: argon2-cffi-bindings in /usr/local/lib/python3.10/dist-packages (from argon2-cffi->notebook->-r https://raw.githubusercontent.com/rennyatwork/CegepSteFoy_ReinfLearn_Work/refs/heads/main/requirementsg100t218.txt (line 5)) (21.2.0)\n",
            "Requirement already satisfied: ipython>=5.0.0 in /usr/local/lib/python3.10/dist-packages (from ipykernel->notebook->-r https://raw.githubusercontent.com/rennyatwork/CegepSteFoy_ReinfLearn_Work/refs/heads/main/requirementsg100t218.txt (line 5)) (7.34.0)\n",
            "Requirement already satisfied: webencodings in /usr/local/lib/python3.10/dist-packages (from bleach!=5.0.0->nbconvert>=5->notebook->-r https://raw.githubusercontent.com/rennyatwork/CegepSteFoy_ReinfLearn_Work/refs/heads/main/requirementsg100t218.txt (line 5)) (0.5.1)\n",
            "Requirement already satisfied: jedi>=0.16 in /usr/local/lib/python3.10/dist-packages (from ipython>=5.0.0->ipykernel->notebook->-r https://raw.githubusercontent.com/rennyatwork/CegepSteFoy_ReinfLearn_Work/refs/heads/main/requirementsg100t218.txt (line 5)) (0.19.1)\n",
            "Requirement already satisfied: decorator in /usr/local/lib/python3.10/dist-packages (from ipython>=5.0.0->ipykernel->notebook->-r https://raw.githubusercontent.com/rennyatwork/CegepSteFoy_ReinfLearn_Work/refs/heads/main/requirementsg100t218.txt (line 5)) (4.4.2)\n",
            "Requirement already satisfied: pickleshare in /usr/local/lib/python3.10/dist-packages (from ipython>=5.0.0->ipykernel->notebook->-r https://raw.githubusercontent.com/rennyatwork/CegepSteFoy_ReinfLearn_Work/refs/heads/main/requirementsg100t218.txt (line 5)) (0.7.5)\n",
            "Requirement already satisfied: prompt-toolkit!=3.0.0,!=3.0.1,<3.1.0,>=2.0.0 in /usr/local/lib/python3.10/dist-packages (from ipython>=5.0.0->ipykernel->notebook->-r https://raw.githubusercontent.com/rennyatwork/CegepSteFoy_ReinfLearn_Work/refs/heads/main/requirementsg100t218.txt (line 5)) (3.0.48)\n",
            "Requirement already satisfied: backcall in /usr/local/lib/python3.10/dist-packages (from ipython>=5.0.0->ipykernel->notebook->-r https://raw.githubusercontent.com/rennyatwork/CegepSteFoy_ReinfLearn_Work/refs/heads/main/requirementsg100t218.txt (line 5)) (0.2.0)\n",
            "Requirement already satisfied: matplotlib-inline in /usr/local/lib/python3.10/dist-packages (from ipython>=5.0.0->ipykernel->notebook->-r https://raw.githubusercontent.com/rennyatwork/CegepSteFoy_ReinfLearn_Work/refs/heads/main/requirementsg100t218.txt (line 5)) (0.1.7)\n",
            "Requirement already satisfied: pexpect>4.3 in /usr/local/lib/python3.10/dist-packages (from ipython>=5.0.0->ipykernel->notebook->-r https://raw.githubusercontent.com/rennyatwork/CegepSteFoy_ReinfLearn_Work/refs/heads/main/requirementsg100t218.txt (line 5)) (4.9.0)\n",
            "Requirement already satisfied: attrs>=22.2.0 in /usr/local/lib/python3.10/dist-packages (from jsonschema>=2.6->nbformat->notebook->-r https://raw.githubusercontent.com/rennyatwork/CegepSteFoy_ReinfLearn_Work/refs/heads/main/requirementsg100t218.txt (line 5)) (24.2.0)\n",
            "Requirement already satisfied: jsonschema-specifications>=2023.03.6 in /usr/local/lib/python3.10/dist-packages (from jsonschema>=2.6->nbformat->notebook->-r https://raw.githubusercontent.com/rennyatwork/CegepSteFoy_ReinfLearn_Work/refs/heads/main/requirementsg100t218.txt (line 5)) (2024.10.1)\n",
            "Requirement already satisfied: referencing>=0.28.4 in /usr/local/lib/python3.10/dist-packages (from jsonschema>=2.6->nbformat->notebook->-r https://raw.githubusercontent.com/rennyatwork/CegepSteFoy_ReinfLearn_Work/refs/heads/main/requirementsg100t218.txt (line 5)) (0.35.1)\n",
            "Requirement already satisfied: rpds-py>=0.7.1 in /usr/local/lib/python3.10/dist-packages (from jsonschema>=2.6->nbformat->notebook->-r https://raw.githubusercontent.com/rennyatwork/CegepSteFoy_ReinfLearn_Work/refs/heads/main/requirementsg100t218.txt (line 5)) (0.20.0)\n",
            "Requirement already satisfied: jupyter-server<3,>=1.8 in /usr/local/lib/python3.10/dist-packages (from notebook-shim>=0.2.3->nbclassic>=0.4.7->notebook->-r https://raw.githubusercontent.com/rennyatwork/CegepSteFoy_ReinfLearn_Work/refs/heads/main/requirementsg100t218.txt (line 5)) (1.24.0)\n",
            "Requirement already satisfied: cffi>=1.0.1 in /usr/local/lib/python3.10/dist-packages (from argon2-cffi-bindings->argon2-cffi->notebook->-r https://raw.githubusercontent.com/rennyatwork/CegepSteFoy_ReinfLearn_Work/refs/heads/main/requirementsg100t218.txt (line 5)) (1.17.1)\n",
            "Requirement already satisfied: soupsieve>1.2 in /usr/local/lib/python3.10/dist-packages (from beautifulsoup4->nbconvert>=5->notebook->-r https://raw.githubusercontent.com/rennyatwork/CegepSteFoy_ReinfLearn_Work/refs/heads/main/requirementsg100t218.txt (line 5)) (2.6)\n",
            "Requirement already satisfied: markdown-it-py>=2.2.0 in /usr/local/lib/python3.10/dist-packages (from rich->keras>=3.5.0->tensorflow==2.18.0->-r https://raw.githubusercontent.com/rennyatwork/CegepSteFoy_ReinfLearn_Work/refs/heads/main/requirementsg100t218.txt (line 3)) (3.0.0)\n",
            "Requirement already satisfied: pycparser in /usr/local/lib/python3.10/dist-packages (from cffi>=1.0.1->argon2-cffi-bindings->argon2-cffi->notebook->-r https://raw.githubusercontent.com/rennyatwork/CegepSteFoy_ReinfLearn_Work/refs/heads/main/requirementsg100t218.txt (line 5)) (2.22)\n",
            "Requirement already satisfied: parso<0.9.0,>=0.8.3 in /usr/local/lib/python3.10/dist-packages (from jedi>=0.16->ipython>=5.0.0->ipykernel->notebook->-r https://raw.githubusercontent.com/rennyatwork/CegepSteFoy_ReinfLearn_Work/refs/heads/main/requirementsg100t218.txt (line 5)) (0.8.4)\n",
            "Requirement already satisfied: anyio<4,>=3.1.0 in /usr/local/lib/python3.10/dist-packages (from jupyter-server<3,>=1.8->notebook-shim>=0.2.3->nbclassic>=0.4.7->notebook->-r https://raw.githubusercontent.com/rennyatwork/CegepSteFoy_ReinfLearn_Work/refs/heads/main/requirementsg100t218.txt (line 5)) (3.7.1)\n",
            "Requirement already satisfied: websocket-client in /usr/local/lib/python3.10/dist-packages (from jupyter-server<3,>=1.8->notebook-shim>=0.2.3->nbclassic>=0.4.7->notebook->-r https://raw.githubusercontent.com/rennyatwork/CegepSteFoy_ReinfLearn_Work/refs/heads/main/requirementsg100t218.txt (line 5)) (1.8.0)\n",
            "Requirement already satisfied: mdurl~=0.1 in /usr/local/lib/python3.10/dist-packages (from markdown-it-py>=2.2.0->rich->keras>=3.5.0->tensorflow==2.18.0->-r https://raw.githubusercontent.com/rennyatwork/CegepSteFoy_ReinfLearn_Work/refs/heads/main/requirementsg100t218.txt (line 3)) (0.1.2)\n",
            "Requirement already satisfied: wcwidth in /usr/local/lib/python3.10/dist-packages (from prompt-toolkit!=3.0.0,!=3.0.1,<3.1.0,>=2.0.0->ipython>=5.0.0->ipykernel->notebook->-r https://raw.githubusercontent.com/rennyatwork/CegepSteFoy_ReinfLearn_Work/refs/heads/main/requirementsg100t218.txt (line 5)) (0.2.13)\n",
            "Requirement already satisfied: sniffio>=1.1 in /usr/local/lib/python3.10/dist-packages (from anyio<4,>=3.1.0->jupyter-server<3,>=1.8->notebook-shim>=0.2.3->nbclassic>=0.4.7->notebook->-r https://raw.githubusercontent.com/rennyatwork/CegepSteFoy_ReinfLearn_Work/refs/heads/main/requirementsg100t218.txt (line 5)) (1.3.1)\n",
            "Requirement already satisfied: exceptiongroup in /usr/local/lib/python3.10/dist-packages (from anyio<4,>=3.1.0->jupyter-server<3,>=1.8->notebook-shim>=0.2.3->nbclassic>=0.4.7->notebook->-r https://raw.githubusercontent.com/rennyatwork/CegepSteFoy_ReinfLearn_Work/refs/heads/main/requirementsg100t218.txt (line 5)) (1.2.2)\n",
            "Downloading gymnasium-1.0.0-py3-none-any.whl (958 kB)\n",
            "\u001b[2K   \u001b[90m━━━━━━━━━━━━━━━━━━━━━━━━━━━━━━━━━━━━━━━━\u001b[0m \u001b[32m958.1/958.1 kB\u001b[0m \u001b[31m23.9 MB/s\u001b[0m eta \u001b[36m0:00:00\u001b[0m\n",
            "\u001b[?25hDownloading tensorflow-2.18.0-cp310-cp310-manylinux_2_17_x86_64.manylinux2014_x86_64.whl (615.3 MB)\n",
            "\u001b[2K   \u001b[90m━━━━━━━━━━━━━━━━━━━━━━━━━━━━━━━━━━━━━━━━\u001b[0m \u001b[32m615.3/615.3 MB\u001b[0m \u001b[31m1.2 MB/s\u001b[0m eta \u001b[36m0:00:00\u001b[0m\n",
            "\u001b[?25hDownloading keras-3.6.0-py3-none-any.whl (1.2 MB)\n",
            "\u001b[2K   \u001b[90m━━━━━━━━━━━━━━━━━━━━━━━━━━━━━━━━━━━━━━━━\u001b[0m \u001b[32m1.2/1.2 MB\u001b[0m \u001b[31m48.5 MB/s\u001b[0m eta \u001b[36m0:00:00\u001b[0m\n",
            "\u001b[?25hDownloading tensorboard-2.18.0-py3-none-any.whl (5.5 MB)\n",
            "\u001b[2K   \u001b[90m━━━━━━━━━━━━━━━━━━━━━━━━━━━━━━━━━━━━━━━━\u001b[0m \u001b[32m5.5/5.5 MB\u001b[0m \u001b[31m64.8 MB/s\u001b[0m eta \u001b[36m0:00:00\u001b[0m\n",
            "\u001b[?25hInstalling collected packages: gymnasium, tensorboard, keras, tensorflow\n",
            "  Attempting uninstall: gymnasium\n",
            "    Found existing installation: gymnasium 0.29.1\n",
            "    Uninstalling gymnasium-0.29.1:\n",
            "      Successfully uninstalled gymnasium-0.29.1\n",
            "  Attempting uninstall: tensorboard\n",
            "    Found existing installation: tensorboard 2.17.0\n",
            "    Uninstalling tensorboard-2.17.0:\n",
            "      Successfully uninstalled tensorboard-2.17.0\n",
            "  Attempting uninstall: keras\n",
            "    Found existing installation: keras 3.4.1\n",
            "    Uninstalling keras-3.4.1:\n",
            "      Successfully uninstalled keras-3.4.1\n",
            "  Attempting uninstall: tensorflow\n",
            "    Found existing installation: tensorflow 2.17.0\n",
            "    Uninstalling tensorflow-2.17.0:\n",
            "      Successfully uninstalled tensorflow-2.17.0\n",
            "\u001b[31mERROR: pip's dependency resolver does not currently take into account all the packages that are installed. This behaviour is the source of the following dependency conflicts.\n",
            "tf-keras 2.17.0 requires tensorflow<2.18,>=2.17, but you have tensorflow 2.18.0 which is incompatible.\u001b[0m\u001b[31m\n",
            "\u001b[0mSuccessfully installed gymnasium-1.0.0 keras-3.6.0 tensorboard-2.18.0 tensorflow-2.18.0\n"
          ]
        }
      ]
    },
    {
      "cell_type": "code",
      "source": [],
      "metadata": {
        "id": "0ihDdD4Yvw9e"
      },
      "execution_count": null,
      "outputs": []
    }
  ]
}