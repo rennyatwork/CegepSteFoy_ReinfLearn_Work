{
 "cells": [
  {
   "cell_type": "code",
   "execution_count": null,
   "id": "876d4490-4555-4d67-8155-c95eae14faa1",
   "metadata": {},
   "outputs": [],
   "source": [
    "# 1. Install Gymnasium if you haven't already\n",
    "#!pip install gymnasium"
   ]
  },
  {
   "cell_type": "code",
   "execution_count": 1,
   "id": "1277ba6f-4d01-4688-9c7d-3949980ed926",
   "metadata": {},
   "outputs": [],
   "source": [
    "# 2. Import necessary libraries\n",
    "import gymnasium as gym\n",
    "import numpy as np\n",
    "import time\n",
    "import matplotlib as plt"
   ]
  },
  {
   "cell_type": "code",
   "execution_count": 2,
   "id": "f2ba9e6f-d7d9-4ce1-9aa2-b499d1e45605",
   "metadata": {},
   "outputs": [
    {
     "name": "stderr",
     "output_type": "stream",
     "text": [
      "MESA: error: ZINK: failed to choose pdev\n",
      "glx: failed to create drisw screen\n"
     ]
    }
   ],
   "source": [
    "# 3. Initialize the Acrobot environment\n",
    "env = gym.make('Acrobot-v1', render_mode='human')\n",
    "\n",
    "# 4. Reset the environment to its initial state\n",
    "state, info = env.reset()"
   ]
  },
  {
   "cell_type": "code",
   "execution_count": 3,
   "id": "cbe2109c-d7bb-4d5b-b561-fce0642b6f8c",
   "metadata": {},
   "outputs": [],
   "source": [
    "# 5. Create a function to choose an action (random for now)\n",
    "def choose_action(state):\n",
    "    \"\"\"\n",
    "    This function will choose an action based on the current state.\n",
    "    For now, it returns a random action.\n",
    "    \"\"\"\n",
    "    return env.action_space.sample()  # Replace this later with a learned policy"
   ]
  },
  {
   "cell_type": "code",
   "execution_count": 4,
   "id": "0afaaf14-23bb-4382-9119-807eb8d6f6c4",
   "metadata": {},
   "outputs": [
    {
     "name": "stdout",
     "output_type": "stream",
     "text": [
      "Episode 1 finished in 4 steps.\n",
      "Episode 2 finished in 4 steps.\n"
     ]
    }
   ],
   "source": [
    "episodes = 2  # Number of episodes to run the agent\n",
    "max_steps = 4  # Maximum steps per episode\n",
    "frames = []\n",
    "\n",
    "# 6. Run the agent and visually render the environment\n",
    "for episode in range(episodes):\n",
    "    state, info = env.reset()  # Reset the environment for each episode\n",
    "    done = False\n",
    "    step = 0\n",
    "    \n",
    "    while not done and step < max_steps:\n",
    "        env.render()  # Render the environment in real time (shows the robot moving)\n",
    "                \n",
    "\n",
    "        # Choose an action using the function\n",
    "        action = choose_action(state)\n",
    "        \n",
    "        # Apply the action to the environment\n",
    "        next_state, reward, terminated, truncated, info = env.step(action)\n",
    "        \n",
    "        # Slow down the simulation a bit for visibility\n",
    "        time.sleep(0.02)  # Adjust this value to make the simulation run slower or faster\n",
    "        \n",
    "        # Update step count and check if the episode is done\n",
    "        step += 1\n",
    "        done = terminated or truncated\n",
    "    \n",
    "    print(f\"Episode {episode + 1} finished in {step} steps.\")\n",
    "\n",
    "\n",
    "\n",
    "# 8. Close the environment when done\n",
    "env.close()"
   ]
  },
  {
   "cell_type": "code",
   "execution_count": null,
   "id": "ab81b319-6f0e-4113-85b3-62937e1ef592",
   "metadata": {},
   "outputs": [],
   "source": []
  }
 ],
 "metadata": {
  "kernelspec": {
   "display_name": "Python 3 (ipykernel)",
   "language": "python",
   "name": "python3"
  },
  "language_info": {
   "codemirror_mode": {
    "name": "ipython",
    "version": 3
   },
   "file_extension": ".py",
   "mimetype": "text/x-python",
   "name": "python",
   "nbconvert_exporter": "python",
   "pygments_lexer": "ipython3",
   "version": "3.12.3"
  }
 },
 "nbformat": 4,
 "nbformat_minor": 5
}
