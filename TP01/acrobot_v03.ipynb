{
 "cells": [
  {
   "cell_type": "code",
   "execution_count": null,
   "id": "9ee0c8db-3a04-4abc-870c-6dab85e6e42b",
   "metadata": {},
   "outputs": [],
   "source": [
    "# 1. Install Gymnasium if you haven't already\n",
    "#!pip install gymnasium[all]"
   ]
  },
  {
   "cell_type": "code",
   "execution_count": 1,
   "id": "544db1f1-3835-4112-856b-c31ae98775bd",
   "metadata": {},
   "outputs": [
    {
     "name": "stdout",
     "output_type": "stream",
     "text": [
      "ok\n"
     ]
    }
   ],
   "source": [
    "print('ok')"
   ]
  },
  {
   "cell_type": "code",
   "execution_count": 2,
   "id": "a37a8f1e-ee7d-46f3-801f-0efdc5f6543d",
   "metadata": {},
   "outputs": [
    {
     "name": "stderr",
     "output_type": "stream",
     "text": [
      "MESA: error: ZINK: failed to choose pdev\n",
      "glx: failed to create drisw screen\n"
     ]
    },
    {
     "name": "stdout",
     "output_type": "stream",
     "text": [
      "Episode 1 finished in 10 steps.\n"
     ]
    }
   ],
   "source": [
    "# 2. Import necessary libraries\n",
    "import gymnasium as gym\n",
    "import numpy as np\n",
    "import matplotlib.pyplot as plt\n",
    "from IPython.display import display, clear_output  # For displaying images in Jupyter\n",
    "import time  # For controlling the frame rate\n",
    "\n",
    "# 3. Initialize the Acrobot environment\n",
    "env = gym.make('Acrobot-v1', render_mode='human')  # Set render mode to 'human' for direct viewing\n",
    "\n",
    "# 4. Create a function to choose a random action\n",
    "def choose_action(state):\n",
    "    return env.action_space.sample()  # Random action for demonstration\n",
    "\n",
    "# 5. Set up parameters\n",
    "episodes = 1  # Number of episodes to run the agent\n",
    "max_steps = 10  # Maximum steps per episode\n",
    "\n",
    "# 6. Run the agent and visualize the environment step-by-step\n",
    "for episode in range(episodes):\n",
    "    state, info = env.reset()  # Reset the environment for each episode\n",
    "    done = False\n",
    "    step = 0\n",
    "    \n",
    "    while not done and step < max_steps:\n",
    "        # Render the environment in a separate window\n",
    "        env.render()  # Opens a window displaying the Acrobot environment\n",
    "        \n",
    "        # Choose an action using the function\n",
    "        action = choose_action(state)\n",
    "\n",
    "        # Apply the action to the environment\n",
    "        next_state, reward, terminated, truncated, info = env.step(action)\n",
    "        \n",
    "        # Update step count and check if the episode is done\n",
    "        step += 1\n",
    "        done = terminated or truncated\n",
    "\n",
    "        # Optional: slow down the display for visibility\n",
    "        time.sleep(0.05)  # Adjust as needed for speed\n",
    "\n",
    "    print(f\"Episode {episode + 1} finished in {step} steps.\")\n",
    "\n",
    "# 7. Close the environment when done\n",
    "env.close()"
   ]
  },
  {
   "cell_type": "code",
   "execution_count": null,
   "id": "2764f343-6a64-4edc-a6e9-7e4e94306b1a",
   "metadata": {},
   "outputs": [],
   "source": []
  }
 ],
 "metadata": {
  "kernelspec": {
   "display_name": "Python 3 (ipykernel)",
   "language": "python",
   "name": "python3"
  },
  "language_info": {
   "codemirror_mode": {
    "name": "ipython",
    "version": 3
   },
   "file_extension": ".py",
   "mimetype": "text/x-python",
   "name": "python",
   "nbconvert_exporter": "python",
   "pygments_lexer": "ipython3",
   "version": "3.12.3"
  }
 },
 "nbformat": 4,
 "nbformat_minor": 5
}
