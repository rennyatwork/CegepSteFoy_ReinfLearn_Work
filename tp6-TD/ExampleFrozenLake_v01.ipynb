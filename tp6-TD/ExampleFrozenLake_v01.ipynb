{
 "cells": [
  {
   "cell_type": "code",
   "execution_count": 8,
   "metadata": {},
   "outputs": [],
   "source": [
    "import gymnasium as gym\n",
    "import pandas as pd\n",
    "import random"
   ]
  },
  {
   "cell_type": "markdown",
   "metadata": {},
   "source": [
    "%md\n",
    "frozen lake"
   ]
  },
  {
   "cell_type": "code",
   "execution_count": 6,
   "metadata": {},
   "outputs": [],
   "source": [
    "# déclaration de l'environnement\n",
    "env = gym.make('FrozenLake8x8-v1',is_slippery = False,map_name=\"4x4\", render_mode=\"ansi\") # ,render_mode=\"human\")"
   ]
  },
  {
   "cell_type": "code",
   "execution_count": 19,
   "metadata": {},
   "outputs": [],
   "source": [
    "### params alpha, gamma\n",
    "ALPHA = 0.1\n",
    "GAMMA = 0.9"
   ]
  },
  {
   "cell_type": "code",
   "execution_count": 7,
   "metadata": {},
   "outputs": [],
   "source": [
    "def random_policy():\n",
    "    return env.action_space.sample()"
   ]
  },
  {
   "cell_type": "code",
   "execution_count": 15,
   "metadata": {},
   "outputs": [],
   "source": [
    "## dictionary for storing states initi\n",
    "def getVDictionary(pStates = env.observation_space.n,  pRandom=False, pDebug=False):\n",
    "    dic = {}\n",
    "\n",
    "    if pDebug:\n",
    "        print(f'pStates : {pStates}')\n",
    "    \n",
    "    for s in range (pStates):\n",
    "        val = random.uniform(1, 10) if pRandom else 0\n",
    "        dic[s]=val\n",
    "    \n",
    "    return dic\n"
   ]
  },
  {
   "cell_type": "code",
   "execution_count": 17,
   "metadata": {},
   "outputs": [],
   "source": [
    "V = getVDictionary()"
   ]
  },
  {
   "cell_type": "code",
   "execution_count": 18,
   "metadata": {},
   "outputs": [
    {
     "name": "stdout",
     "output_type": "stream",
     "text": [
      "Key: 0, Value: 0\n",
      "Key: 1, Value: 0\n",
      "Key: 2, Value: 0\n",
      "Key: 3, Value: 0\n",
      "Key: 4, Value: 0\n",
      "Key: 5, Value: 0\n",
      "Key: 6, Value: 0\n",
      "Key: 7, Value: 0\n",
      "Key: 8, Value: 0\n",
      "Key: 9, Value: 0\n",
      "Key: 10, Value: 0\n",
      "Key: 11, Value: 0\n",
      "Key: 12, Value: 0\n",
      "Key: 13, Value: 0\n",
      "Key: 14, Value: 0\n",
      "Key: 15, Value: 0\n"
     ]
    }
   ],
   "source": [
    "## traversing dictionary\n",
    "for (key, value) in V.items():\n",
    "    print(f\"Key: {key}, Value: {value}\")\n"
   ]
  },
  {
   "cell_type": "code",
   "execution_count": 20,
   "metadata": {},
   "outputs": [],
   "source": [
    "## random Policy\n",
    "def random_policy():\n",
    "    return env.action_space.sample()"
   ]
  },
  {
   "cell_type": "code",
   "execution_count": null,
   "metadata": {},
   "outputs": [],
   "source": [
    "## epsilon greedy\n",
    "def epsilon_greedy(pState, pEpsilon, pPrint=False):\n",
    "    \n",
    "    if random.uniform(0,1) < pEpsilon:\n",
    "        action = random_policy()\n",
    "    else:\n",
    "        action = max(list(range(pState)), key = lambda x: )\n",
    "\n"
   ]
  },
  {
   "cell_type": "code",
   "execution_count": 27,
   "metadata": {},
   "outputs": [],
   "source": [
    "## choose a policy\n",
    "def get_policy(pRandom=True):    \n",
    "    if pRandom:\n",
    "        action = random_policy()\n",
    "    return action\n"
   ]
  },
  {
   "cell_type": "code",
   "execution_count": 64,
   "metadata": {},
   "outputs": [],
   "source": [
    "def generate_episode(pDictV = V, pNumEpisodes = 1, pSteps=5, pPrint=False):\n",
    "    for ep in range(pNumEpisodes):\n",
    "        state = env.reset()\n",
    "        state = state[0]\n",
    "        if pPrint:       \n",
    "                print('---------------')         \n",
    "                print(f'state: {state}')\n",
    "\n",
    "        ## select an action according to a policy\n",
    "        for step in range(pSteps):\n",
    "            if pPrint:                \n",
    "                print(f'step: {step}')\n",
    "\n",
    "\n",
    "            action = get_policy()\n",
    "\n",
    "            if pPrint:                \n",
    "                print(f'action: {action}')\n",
    "\n",
    "\n",
    "            ## perform selected action\n",
    "            #print(env.step(action))\n",
    "\n",
    "            next_state, reward, done, info, extra = env.step(action)\n",
    "            #next_state = next_state[0]\n",
    "\n",
    "            if pPrint:\n",
    "                print(f'next_state: {next_state}')\n",
    "                print(f'reward: {reward}')\n",
    "\n",
    "            ## compute the value of the current state \n",
    "            if pPrint:\n",
    "                print(f'BEFORE update pDictV[step]: {pDictV[state]}')\n",
    "                print(f'ALPHA: {ALPHA}')\n",
    "                print(f'reward: {reward}')\n",
    "                print(f'GAMMA: {GAMMA}')\n",
    "                print(f'pDictV[next_state] {pDictV[next_state]}')\n",
    "                \n",
    "\n",
    "            pDictV[state] += ALPHA*(reward + GAMMA*pDictV[next_state] - pDictV[state] )\n",
    "\n",
    "            ## update the next state\n",
    "            state = next_state\n",
    "\n",
    "            if done or step == pSteps: \n",
    "                break\n",
    "\n",
    "\n"
   ]
  },
  {
   "cell_type": "code",
   "execution_count": 51,
   "metadata": {},
   "outputs": [],
   "source": [
    "def evaluate(pDictV=V, pCols=['state', 'value']):\n",
    "    df = pd.DataFrame(list(pDictV.items()), columns=pCols)\n",
    "    print(df)"
   ]
  },
  {
   "cell_type": "code",
   "execution_count": 68,
   "metadata": {},
   "outputs": [
    {
     "name": "stdout",
     "output_type": "stream",
     "text": [
      "    state     value\n",
      "0       0  0.000361\n",
      "1       1  0.000441\n",
      "2       2  0.001809\n",
      "3       3  0.000144\n",
      "4       4  0.000573\n",
      "5       5  0.000000\n",
      "6       6  0.002971\n",
      "7       7  0.000000\n",
      "8       8  0.001916\n",
      "9       9  0.005447\n",
      "10     10  0.027642\n",
      "11     11  0.000000\n",
      "12     12  0.000000\n",
      "13     13  0.010657\n",
      "14     14  0.152102\n",
      "15     15  0.000000\n"
     ]
    }
   ],
   "source": [
    "V = getVDictionary()\n",
    "generate_episode(pDictV=V, pNumEpisodes=600,  pSteps=10,  pPrint=False)\n",
    "evaluate(V)"
   ]
  },
  {
   "cell_type": "code",
   "execution_count": null,
   "metadata": {},
   "outputs": [],
   "source": []
  }
 ],
 "metadata": {
  "kernelspec": {
   "display_name": "venv_py12",
   "language": "python",
   "name": "python3"
  },
  "language_info": {
   "codemirror_mode": {
    "name": "ipython",
    "version": 3
   },
   "file_extension": ".py",
   "mimetype": "text/x-python",
   "name": "python",
   "nbconvert_exporter": "python",
   "pygments_lexer": "ipython3",
   "version": "3.12.3"
  }
 },
 "nbformat": 4,
 "nbformat_minor": 2
}
