{
  "nbformat": 4,
  "nbformat_minor": 0,
  "metadata": {
    "colab": {
      "provenance": [],
      "authorship_tag": "ABX9TyNbRRyYPvJ4akrpLBJQKX19",
      "include_colab_link": true
    },
    "kernelspec": {
      "name": "python3",
      "display_name": "Python 3"
    },
    "language_info": {
      "name": "python"
    }
  },
  "cells": [
    {
      "cell_type": "markdown",
      "metadata": {
        "id": "view-in-github",
        "colab_type": "text"
      },
      "source": [
        "<a href=\"https://colab.research.google.com/github/rennyatwork/CegepSteFoy_ReinfLearn_Work/blob/main/dqn_cartpole.ipynb\" target=\"_parent\"><img src=\"https://colab.research.google.com/assets/colab-badge.svg\" alt=\"Open In Colab\"/></a>"
      ]
    },
    {
      "cell_type": "code",
      "source": [
        "!pip install gymnasium\n",
        "import gymnasium"
      ],
      "metadata": {
        "colab": {
          "base_uri": "https://localhost:8080/"
        },
        "id": "vQfcT1-O1jcE",
        "outputId": "8e2c15f9-8164-4573-aeaa-cd864f197eee"
      },
      "execution_count": 3,
      "outputs": [
        {
          "output_type": "stream",
          "name": "stdout",
          "text": [
            "Collecting gymnasium\n",
            "  Downloading gymnasium-1.0.0-py3-none-any.whl.metadata (9.5 kB)\n",
            "Requirement already satisfied: numpy>=1.21.0 in /usr/local/lib/python3.10/dist-packages (from gymnasium) (1.26.4)\n",
            "Requirement already satisfied: cloudpickle>=1.2.0 in /usr/local/lib/python3.10/dist-packages (from gymnasium) (3.1.0)\n",
            "Requirement already satisfied: typing-extensions>=4.3.0 in /usr/local/lib/python3.10/dist-packages (from gymnasium) (4.12.2)\n",
            "Collecting farama-notifications>=0.0.1 (from gymnasium)\n",
            "  Downloading Farama_Notifications-0.0.4-py3-none-any.whl.metadata (558 bytes)\n",
            "Downloading gymnasium-1.0.0-py3-none-any.whl (958 kB)\n",
            "\u001b[2K   \u001b[90m━━━━━━━━━━━━━━━━━━━━━━━━━━━━━━━━━━━━━━━━\u001b[0m \u001b[32m958.1/958.1 kB\u001b[0m \u001b[31m11.3 MB/s\u001b[0m eta \u001b[36m0:00:00\u001b[0m\n",
            "\u001b[?25hDownloading Farama_Notifications-0.0.4-py3-none-any.whl (2.5 kB)\n",
            "Installing collected packages: farama-notifications, gymnasium\n",
            "Successfully installed farama-notifications-0.0.4 gymnasium-1.0.0\n"
          ]
        }
      ]
    },
    {
      "cell_type": "code",
      "execution_count": 4,
      "metadata": {
        "colab": {
          "base_uri": "https://localhost:8080/"
        },
        "id": "O7413wk91UGh",
        "outputId": "3bec2fac-5f76-4d87-9215-786a0825728b"
      },
      "outputs": [
        {
          "output_type": "stream",
          "name": "stdout",
          "text": [
            "2.17.0\n"
          ]
        }
      ],
      "source": [
        "import numpy as np\n",
        "import gymnasium as gym\n",
        "from collections import deque\n",
        "import random\n",
        "\n",
        "import tensorflow as tf\n",
        "print(tf.__version__)\n",
        "\n",
        "from keras.models import Sequential\n",
        "from keras.layers import Dense, Activation, Flatten, Input\n",
        "from keras.optimizers import Adam # si vous utilisz un mac M1/M2 utiliser legacy.optimizers\n",
        "\n",
        "from IPython.display import display, clear_output\n",
        "import matplotlib.pyplot as plt\n",
        "\n",
        "%matplotlib inline"
      ]
    },
    {
      "cell_type": "markdown",
      "source": [
        "Définition de l'environnement"
      ],
      "metadata": {
        "id": "WzyiEydN10C7"
      }
    },
    {
      "cell_type": "code",
      "source": [
        "ENV_NAME = 'CartPole-v1'\n",
        "\n",
        "env = gym.make(ENV_NAME)\n",
        "np.random.seed(100)\n",
        "env.reset(seed=100)\n",
        "nb_actions = env.action_space.n # Nombre d'action\n",
        "nb_obs = env.observation_space.shape[0] # nombre de paramètre pour décrire l'environnement\n",
        "print(f\"Nombre d actions : {nb_actions}, Dimension de l env : {nb_obs}\")"
      ],
      "metadata": {
        "colab": {
          "base_uri": "https://localhost:8080/"
        },
        "id": "-F5n5fsw1x8O",
        "outputId": "aa139bae-fbbc-4028-e394-1b362526552f"
      },
      "execution_count": 5,
      "outputs": [
        {
          "output_type": "stream",
          "name": "stdout",
          "text": [
            "Nombre d actions : 2, Dimension de l env : 4\n"
          ]
        }
      ]
    },
    {
      "cell_type": "markdown",
      "source": [
        "# Remarques sur l'environnement\n",
        "\n",
        "2 actions possibles :<br>\n",
        "    poussée vers la gauche<br>\n",
        "    poussée vers la droite<br>\n",
        "    \n",
        "Observation :<br>\n",
        "    Valeurs **continues** !"
      ],
      "metadata": {
        "id": "859JykKl15FA"
      }
    },
    {
      "cell_type": "code",
      "source": [
        "# Classe pour notre algorithme DQN\n",
        "class DQN:\n",
        "    def __init__(self, obs_size\n",
        "                 , action_size\n",
        "                 , gamma\n",
        "                 , learning_rate):\n",
        "        # Objet : initialisation de la classe\n",
        "        # Paramètres en entrée\n",
        "        #     Nombre de paramètre pour décrire l'état\n",
        "        #     Nombre d'actions\n",
        "        #.    Paramètre gamma : dépréciation futur\n",
        "        #     learning rate\n",
        "\n",
        "        # dimension des états\n",
        "        self.obs_size = obs_size\n",
        "\n",
        "        # nombre d'actions\n",
        "        self.action_size = action_size\n",
        "\n",
        "        # gamma : dépréciation du futur\n",
        "        self.gamma = gamma\n",
        "\n",
        "        # learning rate\n",
        "        self.learning_rate = learning_rate\n",
        "\n",
        "        # autres paramètres\n",
        "        self.update_freq = 100 # fréquence de copie des poids (1000)\n",
        "\n",
        "        # autres structures\n",
        "        self.replay_buffer = deque(maxlen=100000) # enregistrements des résultats\n",
        "\n",
        "        # Modèle de réseaux de neurones\n",
        "        self.main_network = self.build_model(16,8)\n",
        "        self.target_network = self.build_model(16,8)\n",
        "        # recopie des poids pour avoir des réseaux à l'identique\n",
        "        self.target_network.set_weights(self.main_network.get_weights())\n",
        "\n",
        "        self.debug = 0\n",
        "\n",
        "    def build_model(self,layer1,layer2):\n",
        "        # input : size of the 2 layers\n",
        "        # output : model of neural network\n",
        "        model = Sequential()\n",
        "        model.add(Input(shape=(self.obs_size,)))\n",
        "        model.add(Dense(layer1,activation='relu'))\n",
        "        model.add(Dense(layer2,activation='relu'))\n",
        "        model.add(Dense(self.action_size))\n",
        "        model.add(Activation('linear'))\n",
        "        model.compile(loss='mse',optimizer=Adam(learning_rate=self.learning_rate),jit_compile=True)\n",
        "        return model\n",
        "\n",
        "    def store_transition(self,state,action,reward,next_state,done):\n",
        "        # input :\n",
        "        # output : nothing\n",
        "        self.replay_buffer.append((state,action,reward,next_state,done))\n",
        "\n",
        "    def policy(self, state, epsilon):\n",
        "        # Policy: return action based on the epsilon-greedy policy\n",
        "        if np.random.rand() < epsilon:\n",
        "            # Exploration: choose a random action\n",
        "            action = np.random.randint(self.action_size)\n",
        "        else:\n",
        "            # Exploitation: choose the action with the highest Q-value\n",
        "            state = np.array(state).reshape(1, -1)  # Reshape to match model input shape\n",
        "            q_values = self.main_network.predict(state, verbose=0)\n",
        "            action = np.argmax(q_values[0])  # Choose the action with the highest Q-value\n",
        "\n",
        "        return action\n",
        "\n",
        "\n",
        "\n",
        "    @tf.function\n",
        "    def _train_main(self, states, Q_values):\n",
        "        self.main_network.fit(states, Q_values, epochs=1, verbose=0)\n",
        "\n",
        "    def train_model(self,batch_size):\n",
        "        self.debug=0\n",
        "        # sélection d'un échantillon\n",
        "        minibatch = random.sample(self.replay_buffer,batch_size)\n",
        "        states, actions, rewards, next_states, dones = map(np.array, zip(*minibatch))\n",
        "\n",
        "        states=states.squeeze()\n",
        "        next_states=next_states.squeeze()\n",
        "\n",
        "        # On récupere les Q values des états rencontrés\n",
        "        Q_values = self.main_network.predict(states,verbose = 0)\n",
        "\n",
        "        Updates = rewards + self.gamma * np.amax(self.target_network.predict(next_states,verbose=0),axis=1) * (1-dones)\n",
        "\n",
        "        Q_values[ np.arange(len(Updates)),actions] = Updates\n",
        "\n",
        "        # ############################################################################\n",
        "        # Votre code : entrainement\n",
        "        # Astuce : vous pouvez mettre l'entrainement dans une fonction avec un décorateur tf.function\n",
        "        self.main_network.fit(states, Q_values, epochs=1, verbose=0, batch_size=batch_size)\n",
        "\n",
        "    def update_weights(self):\n",
        "        self.target_network.set_weights(self.main_network.get_weights())"
      ],
      "metadata": {
        "id": "YS0E2YzH1-4V"
      },
      "execution_count": 6,
      "outputs": []
    },
    {
      "cell_type": "code",
      "source": [
        "# transformation des données pour compatabilité avec l'alimentation du réseau de neurones (1,s)`\n",
        "def trans_state(s):\n",
        "    return  np.reshape(s, [1, nb_obs])"
      ],
      "metadata": {
        "id": "NZp6RbAm2F4g"
      },
      "execution_count": 7,
      "outputs": []
    },
    {
      "cell_type": "code",
      "source": [
        "num_episodes = 2000\n",
        "batch_size = 16 # K\n",
        "gamma=0.98\n",
        "\n",
        "# variation du epsilon de notre politique e-greedy\n",
        "epsilon_max=1.00\n",
        "epsilon_min=0.05\n",
        "epsilon_decay=0.992\n",
        "\n",
        "learning_rate=0.0005 # 0.001"
      ],
      "metadata": {
        "id": "SIfVZRdW2JbU"
      },
      "execution_count": 8,
      "outputs": []
    },
    {
      "cell_type": "code",
      "source": [
        "dqn = DQN(env.observation_space.shape[0],env.action_space.n,gamma,learning_rate)"
      ],
      "metadata": {
        "id": "elslvCy42M-u"
      },
      "execution_count": 9,
      "outputs": []
    },
    {
      "cell_type": "code",
      "source": [
        "def is_goal_reached(pConsecutiveSuccess=0,pReturn=0):\n",
        "  return pConsecutiveSuccess==5 AND pReturn==400"
      ],
      "metadata": {
        "id": "ZR8Lm3WYJmq1"
      },
      "execution_count": null,
      "outputs": []
    },
    {
      "cell_type": "code",
      "source": [
        "time_step = 0  # total movement count\n",
        "histoReturn = []  # for reward history plotting\n",
        "epsilon = epsilon_max\n",
        "checkpoint_path = \"cartpole-save.weights.h5\"\n",
        "\n",
        "fig = plt.figure()\n",
        "ax = fig.add_subplot(111)\n",
        "\n",
        "for i in range(num_episodes):\n",
        "    # Total reward for each cycle\n",
        "    Return = 0\n",
        "\n",
        "    # Reset environment and convert initial state\n",
        "    state = trans_state(env.reset()[0])\n",
        "    done = False\n",
        "    truncated = False\n",
        "\n",
        "    while not (done or truncated):\n",
        "        time_step += 1\n",
        "\n",
        "        # Copy weights from main network to target network at specified intervals\n",
        "        if time_step % dqn.update_freq == 0:\n",
        "            dqn.update_weights()\n",
        "\n",
        "        # Choose an action according to the epsilon-greedy policy\n",
        "        action = dqn.policy(state, epsilon)\n",
        "\n",
        "        # Play the selected action and receive feedback\n",
        "        next_state, reward, done, truncated, _ = env.step(action)\n",
        "        next_state = trans_state(next_state)  # Convert next state to suitable format\n",
        "\n",
        "        if truncated:\n",
        "            done = True\n",
        "\n",
        "        # Store the experience in replay memory\n",
        "        dqn.store_transition(state, action, reward, next_state, done)\n",
        "\n",
        "        # Shift to the next state\n",
        "        state = next_state\n",
        "\n",
        "        # Accumulate total return\n",
        "        Return += reward\n",
        "\n",
        "        # Check if episode is done\n",
        "        if done or truncated:\n",
        "            # Display results of the cycle\n",
        "            print(f'Episode: {i}, Return: {Return}, Epsilon: {np.round(epsilon, 2)}, End: {truncated}')\n",
        "\n",
        "            # Update reward history plot every 10 episodes\n",
        "            if i % 10 == 0:\n",
        "                ax.clear()\n",
        "                ax.plot(histoReturn)\n",
        "                display(fig)\n",
        "                clear_output(wait=True)\n",
        "\n",
        "            # Decrement epsilon for exploration-exploitation tradeoff\n",
        "            epsilon *= epsilon_decay\n",
        "            epsilon = max(epsilon_min, epsilon)\n",
        "            histoReturn.append(Return)\n",
        "\n",
        "            # Save model weights every 50 episodes\n",
        "            if i % 50 == 0:\n",
        "                dqn.main_network.save_weights(checkpoint_path)\n",
        "            break\n",
        "\n",
        "        # Train the network once replay buffer has enough samples\n",
        "        if len(dqn.replay_buffer) > batch_size:\n",
        "            dqn.train_model(batch_size)\n",
        "\n"
      ],
      "metadata": {
        "colab": {
          "base_uri": "https://localhost:8080/",
          "height": 804
        },
        "id": "H5mNytbq2OJq",
        "outputId": "66adde76-f03e-4d96-def4-e848ef88c74d"
      },
      "execution_count": 10,
      "outputs": [
        {
          "output_type": "error",
          "ename": "KeyboardInterrupt",
          "evalue": "",
          "traceback": [
            "\u001b[0;31m---------------------------------------------------------------------------\u001b[0m",
            "\u001b[0;31mKeyboardInterrupt\u001b[0m                         Traceback (most recent call last)",
            "\u001b[0;32m<ipython-input-10-70af0f2e0951>\u001b[0m in \u001b[0;36m<cell line: 9>\u001b[0;34m()\u001b[0m\n\u001b[1;32m     66\u001b[0m         \u001b[0;31m# Train the network once replay buffer has enough samples\u001b[0m\u001b[0;34m\u001b[0m\u001b[0;34m\u001b[0m\u001b[0m\n\u001b[1;32m     67\u001b[0m         \u001b[0;32mif\u001b[0m \u001b[0mlen\u001b[0m\u001b[0;34m(\u001b[0m\u001b[0mdqn\u001b[0m\u001b[0;34m.\u001b[0m\u001b[0mreplay_buffer\u001b[0m\u001b[0;34m)\u001b[0m \u001b[0;34m>\u001b[0m \u001b[0mbatch_size\u001b[0m\u001b[0;34m:\u001b[0m\u001b[0;34m\u001b[0m\u001b[0;34m\u001b[0m\u001b[0m\n\u001b[0;32m---> 68\u001b[0;31m             \u001b[0mdqn\u001b[0m\u001b[0;34m.\u001b[0m\u001b[0mtrain_model\u001b[0m\u001b[0;34m(\u001b[0m\u001b[0mbatch_size\u001b[0m\u001b[0;34m)\u001b[0m\u001b[0;34m\u001b[0m\u001b[0;34m\u001b[0m\u001b[0m\n\u001b[0m\u001b[1;32m     69\u001b[0m \u001b[0;34m\u001b[0m\u001b[0m\n",
            "\u001b[0;32m<ipython-input-6-aa8b34e64ba3>\u001b[0m in \u001b[0;36mtrain_model\u001b[0;34m(self, batch_size)\u001b[0m\n\u001b[1;32m     81\u001b[0m \u001b[0;34m\u001b[0m\u001b[0m\n\u001b[1;32m     82\u001b[0m         \u001b[0;31m# On récupere les Q values des états rencontrés\u001b[0m\u001b[0;34m\u001b[0m\u001b[0;34m\u001b[0m\u001b[0m\n\u001b[0;32m---> 83\u001b[0;31m         \u001b[0mQ_values\u001b[0m \u001b[0;34m=\u001b[0m \u001b[0mself\u001b[0m\u001b[0;34m.\u001b[0m\u001b[0mmain_network\u001b[0m\u001b[0;34m.\u001b[0m\u001b[0mpredict\u001b[0m\u001b[0;34m(\u001b[0m\u001b[0mstates\u001b[0m\u001b[0;34m,\u001b[0m\u001b[0mverbose\u001b[0m \u001b[0;34m=\u001b[0m \u001b[0;36m0\u001b[0m\u001b[0;34m)\u001b[0m\u001b[0;34m\u001b[0m\u001b[0;34m\u001b[0m\u001b[0m\n\u001b[0m\u001b[1;32m     84\u001b[0m \u001b[0;34m\u001b[0m\u001b[0m\n\u001b[1;32m     85\u001b[0m         \u001b[0mUpdates\u001b[0m \u001b[0;34m=\u001b[0m \u001b[0mrewards\u001b[0m \u001b[0;34m+\u001b[0m \u001b[0mself\u001b[0m\u001b[0;34m.\u001b[0m\u001b[0mgamma\u001b[0m \u001b[0;34m*\u001b[0m \u001b[0mnp\u001b[0m\u001b[0;34m.\u001b[0m\u001b[0mamax\u001b[0m\u001b[0;34m(\u001b[0m\u001b[0mself\u001b[0m\u001b[0;34m.\u001b[0m\u001b[0mtarget_network\u001b[0m\u001b[0;34m.\u001b[0m\u001b[0mpredict\u001b[0m\u001b[0;34m(\u001b[0m\u001b[0mnext_states\u001b[0m\u001b[0;34m,\u001b[0m\u001b[0mverbose\u001b[0m\u001b[0;34m=\u001b[0m\u001b[0;36m0\u001b[0m\u001b[0;34m)\u001b[0m\u001b[0;34m,\u001b[0m\u001b[0maxis\u001b[0m\u001b[0;34m=\u001b[0m\u001b[0;36m1\u001b[0m\u001b[0;34m)\u001b[0m \u001b[0;34m*\u001b[0m \u001b[0;34m(\u001b[0m\u001b[0;36m1\u001b[0m\u001b[0;34m-\u001b[0m\u001b[0mdones\u001b[0m\u001b[0;34m)\u001b[0m\u001b[0;34m\u001b[0m\u001b[0;34m\u001b[0m\u001b[0m\n",
            "\u001b[0;32m/usr/local/lib/python3.10/dist-packages/keras/src/utils/traceback_utils.py\u001b[0m in \u001b[0;36merror_handler\u001b[0;34m(*args, **kwargs)\u001b[0m\n\u001b[1;32m    115\u001b[0m         \u001b[0mfiltered_tb\u001b[0m \u001b[0;34m=\u001b[0m \u001b[0;32mNone\u001b[0m\u001b[0;34m\u001b[0m\u001b[0;34m\u001b[0m\u001b[0m\n\u001b[1;32m    116\u001b[0m         \u001b[0;32mtry\u001b[0m\u001b[0;34m:\u001b[0m\u001b[0;34m\u001b[0m\u001b[0;34m\u001b[0m\u001b[0m\n\u001b[0;32m--> 117\u001b[0;31m             \u001b[0;32mreturn\u001b[0m \u001b[0mfn\u001b[0m\u001b[0;34m(\u001b[0m\u001b[0;34m*\u001b[0m\u001b[0margs\u001b[0m\u001b[0;34m,\u001b[0m \u001b[0;34m**\u001b[0m\u001b[0mkwargs\u001b[0m\u001b[0;34m)\u001b[0m\u001b[0;34m\u001b[0m\u001b[0;34m\u001b[0m\u001b[0m\n\u001b[0m\u001b[1;32m    118\u001b[0m         \u001b[0;32mexcept\u001b[0m \u001b[0mException\u001b[0m \u001b[0;32mas\u001b[0m \u001b[0me\u001b[0m\u001b[0;34m:\u001b[0m\u001b[0;34m\u001b[0m\u001b[0;34m\u001b[0m\u001b[0m\n\u001b[1;32m    119\u001b[0m             \u001b[0mfiltered_tb\u001b[0m \u001b[0;34m=\u001b[0m \u001b[0m_process_traceback_frames\u001b[0m\u001b[0;34m(\u001b[0m\u001b[0me\u001b[0m\u001b[0;34m.\u001b[0m\u001b[0m__traceback__\u001b[0m\u001b[0;34m)\u001b[0m\u001b[0;34m\u001b[0m\u001b[0;34m\u001b[0m\u001b[0m\n",
            "\u001b[0;32m/usr/local/lib/python3.10/dist-packages/keras/src/backend/tensorflow/trainer.py\u001b[0m in \u001b[0;36mpredict\u001b[0;34m(self, x, batch_size, verbose, steps, callbacks)\u001b[0m\n\u001b[1;32m    444\u001b[0m     ):\n\u001b[1;32m    445\u001b[0m         \u001b[0;31m# Create an iterator that yields batches of input data.\u001b[0m\u001b[0;34m\u001b[0m\u001b[0;34m\u001b[0m\u001b[0m\n\u001b[0;32m--> 446\u001b[0;31m         epoch_iterator = TFEpochIterator(\n\u001b[0m\u001b[1;32m    447\u001b[0m             \u001b[0mx\u001b[0m\u001b[0;34m=\u001b[0m\u001b[0mx\u001b[0m\u001b[0;34m,\u001b[0m\u001b[0;34m\u001b[0m\u001b[0;34m\u001b[0m\u001b[0m\n\u001b[1;32m    448\u001b[0m             \u001b[0mbatch_size\u001b[0m\u001b[0;34m=\u001b[0m\u001b[0mbatch_size\u001b[0m\u001b[0;34m,\u001b[0m\u001b[0;34m\u001b[0m\u001b[0;34m\u001b[0m\u001b[0m\n",
            "\u001b[0;32m/usr/local/lib/python3.10/dist-packages/keras/src/backend/tensorflow/trainer.py\u001b[0m in \u001b[0;36m__init__\u001b[0;34m(self, distribute_strategy, *args, **kwargs)\u001b[0m\n\u001b[1;32m    627\u001b[0m         \u001b[0msuper\u001b[0m\u001b[0;34m(\u001b[0m\u001b[0;34m)\u001b[0m\u001b[0;34m.\u001b[0m\u001b[0m__init__\u001b[0m\u001b[0;34m(\u001b[0m\u001b[0;34m*\u001b[0m\u001b[0margs\u001b[0m\u001b[0;34m,\u001b[0m \u001b[0;34m**\u001b[0m\u001b[0mkwargs\u001b[0m\u001b[0;34m)\u001b[0m\u001b[0;34m\u001b[0m\u001b[0;34m\u001b[0m\u001b[0m\n\u001b[1;32m    628\u001b[0m         \u001b[0mself\u001b[0m\u001b[0;34m.\u001b[0m\u001b[0m_distribute_strategy\u001b[0m \u001b[0;34m=\u001b[0m \u001b[0mdistribute_strategy\u001b[0m\u001b[0;34m\u001b[0m\u001b[0;34m\u001b[0m\u001b[0m\n\u001b[0;32m--> 629\u001b[0;31m         \u001b[0mdataset\u001b[0m \u001b[0;34m=\u001b[0m \u001b[0mself\u001b[0m\u001b[0;34m.\u001b[0m\u001b[0m_get_iterator\u001b[0m\u001b[0;34m(\u001b[0m\u001b[0;34m)\u001b[0m\u001b[0;34m\u001b[0m\u001b[0;34m\u001b[0m\u001b[0m\n\u001b[0m\u001b[1;32m    630\u001b[0m         \u001b[0;32mif\u001b[0m \u001b[0;32mnot\u001b[0m \u001b[0misinstance\u001b[0m\u001b[0;34m(\u001b[0m\u001b[0mdataset\u001b[0m\u001b[0;34m,\u001b[0m \u001b[0mtf\u001b[0m\u001b[0;34m.\u001b[0m\u001b[0mdistribute\u001b[0m\u001b[0;34m.\u001b[0m\u001b[0mDistributedDataset\u001b[0m\u001b[0;34m)\u001b[0m\u001b[0;34m:\u001b[0m\u001b[0;34m\u001b[0m\u001b[0;34m\u001b[0m\u001b[0m\n\u001b[1;32m    631\u001b[0m             dataset = self._distribute_strategy.experimental_distribute_dataset(\n",
            "\u001b[0;32m/usr/local/lib/python3.10/dist-packages/keras/src/backend/tensorflow/trainer.py\u001b[0m in \u001b[0;36m_get_iterator\u001b[0;34m(self)\u001b[0m\n\u001b[1;32m    636\u001b[0m \u001b[0;34m\u001b[0m\u001b[0m\n\u001b[1;32m    637\u001b[0m     \u001b[0;32mdef\u001b[0m \u001b[0m_get_iterator\u001b[0m\u001b[0;34m(\u001b[0m\u001b[0mself\u001b[0m\u001b[0;34m)\u001b[0m\u001b[0;34m:\u001b[0m\u001b[0;34m\u001b[0m\u001b[0;34m\u001b[0m\u001b[0m\n\u001b[0;32m--> 638\u001b[0;31m         \u001b[0;32mreturn\u001b[0m \u001b[0mself\u001b[0m\u001b[0;34m.\u001b[0m\u001b[0mdata_adapter\u001b[0m\u001b[0;34m.\u001b[0m\u001b[0mget_tf_dataset\u001b[0m\u001b[0;34m(\u001b[0m\u001b[0;34m)\u001b[0m\u001b[0;34m\u001b[0m\u001b[0;34m\u001b[0m\u001b[0m\n\u001b[0m\u001b[1;32m    639\u001b[0m \u001b[0;34m\u001b[0m\u001b[0m\n\u001b[1;32m    640\u001b[0m     \u001b[0;32mdef\u001b[0m \u001b[0menumerate_epoch\u001b[0m\u001b[0;34m(\u001b[0m\u001b[0mself\u001b[0m\u001b[0;34m)\u001b[0m\u001b[0;34m:\u001b[0m\u001b[0;34m\u001b[0m\u001b[0;34m\u001b[0m\u001b[0m\n",
            "\u001b[0;32m/usr/local/lib/python3.10/dist-packages/keras/src/trainers/data_adapters/array_data_adapter.py\u001b[0m in \u001b[0;36mget_tf_dataset\u001b[0;34m(self)\u001b[0m\n\u001b[1;32m    138\u001b[0m         \u001b[0;31m# simultaneous shuffles can contend on a hardware level and degrade all\u001b[0m\u001b[0;34m\u001b[0m\u001b[0;34m\u001b[0m\u001b[0m\n\u001b[1;32m    139\u001b[0m         \u001b[0;31m# performance.\u001b[0m\u001b[0;34m\u001b[0m\u001b[0;34m\u001b[0m\u001b[0m\n\u001b[0;32m--> 140\u001b[0;31m         \u001b[0mindices_dataset\u001b[0m \u001b[0;34m=\u001b[0m \u001b[0mindices_dataset\u001b[0m\u001b[0;34m.\u001b[0m\u001b[0mmap\u001b[0m\u001b[0;34m(\u001b[0m\u001b[0mpermutation\u001b[0m\u001b[0;34m)\u001b[0m\u001b[0;34m.\u001b[0m\u001b[0mprefetch\u001b[0m\u001b[0;34m(\u001b[0m\u001b[0;36m1\u001b[0m\u001b[0;34m)\u001b[0m\u001b[0;34m\u001b[0m\u001b[0;34m\u001b[0m\u001b[0m\n\u001b[0m\u001b[1;32m    141\u001b[0m \u001b[0;34m\u001b[0m\u001b[0m\n\u001b[1;32m    142\u001b[0m         \u001b[0;32mdef\u001b[0m \u001b[0mslice_batch_indices\u001b[0m\u001b[0;34m(\u001b[0m\u001b[0mindices\u001b[0m\u001b[0;34m)\u001b[0m\u001b[0;34m:\u001b[0m\u001b[0;34m\u001b[0m\u001b[0;34m\u001b[0m\u001b[0m\n",
            "\u001b[0;32m/usr/local/lib/python3.10/dist-packages/tensorflow/python/data/ops/dataset_ops.py\u001b[0m in \u001b[0;36mprefetch\u001b[0;34m(self, buffer_size, name)\u001b[0m\n\u001b[1;32m   1257\u001b[0m       \u001b[0mA\u001b[0m \u001b[0mnew\u001b[0m\u001b[0;31m \u001b[0m\u001b[0;31m`\u001b[0m\u001b[0mDataset\u001b[0m\u001b[0;31m`\u001b[0m \u001b[0;32mwith\u001b[0m \u001b[0mthe\u001b[0m \u001b[0mtransformation\u001b[0m \u001b[0mapplied\u001b[0m \u001b[0;32mas\u001b[0m \u001b[0mdescribed\u001b[0m \u001b[0mabove\u001b[0m\u001b[0;34m.\u001b[0m\u001b[0;34m\u001b[0m\u001b[0;34m\u001b[0m\u001b[0m\n\u001b[1;32m   1258\u001b[0m     \"\"\"\n\u001b[0;32m-> 1259\u001b[0;31m     return prefetch_op._prefetch(  # pylint: disable=protected-access\n\u001b[0m\u001b[1;32m   1260\u001b[0m         self, buffer_size, name=name)\n\u001b[1;32m   1261\u001b[0m \u001b[0;34m\u001b[0m\u001b[0m\n",
            "\u001b[0;32m/usr/local/lib/python3.10/dist-packages/tensorflow/python/data/ops/prefetch_op.py\u001b[0m in \u001b[0;36m_prefetch\u001b[0;34m(input_dataset, buffer_size, name)\u001b[0m\n\u001b[1;32m     26\u001b[0m   \u001b[0;32mif\u001b[0m \u001b[0mdebug_mode\u001b[0m\u001b[0;34m.\u001b[0m\u001b[0mDEBUG_MODE\u001b[0m\u001b[0;34m:\u001b[0m\u001b[0;34m\u001b[0m\u001b[0;34m\u001b[0m\u001b[0m\n\u001b[1;32m     27\u001b[0m     \u001b[0;32mreturn\u001b[0m \u001b[0minput_dataset\u001b[0m\u001b[0;34m\u001b[0m\u001b[0;34m\u001b[0m\u001b[0m\n\u001b[0;32m---> 28\u001b[0;31m   \u001b[0;32mreturn\u001b[0m \u001b[0m_PrefetchDataset\u001b[0m\u001b[0;34m(\u001b[0m\u001b[0minput_dataset\u001b[0m\u001b[0;34m,\u001b[0m \u001b[0mbuffer_size\u001b[0m\u001b[0;34m,\u001b[0m \u001b[0mname\u001b[0m\u001b[0;34m=\u001b[0m\u001b[0mname\u001b[0m\u001b[0;34m)\u001b[0m\u001b[0;34m\u001b[0m\u001b[0;34m\u001b[0m\u001b[0m\n\u001b[0m\u001b[1;32m     29\u001b[0m \u001b[0;34m\u001b[0m\u001b[0m\n\u001b[1;32m     30\u001b[0m \u001b[0;34m\u001b[0m\u001b[0m\n",
            "\u001b[0;32m/usr/local/lib/python3.10/dist-packages/tensorflow/python/data/ops/prefetch_op.py\u001b[0m in \u001b[0;36m__init__\u001b[0;34m(self, input_dataset, buffer_size, slack_period, name)\u001b[0m\n\u001b[1;32m     44\u001b[0m     \u001b[0;31m# happens automatically in graph mode.\u001b[0m\u001b[0;34m\u001b[0m\u001b[0;34m\u001b[0m\u001b[0m\n\u001b[1;32m     45\u001b[0m     \u001b[0;32mwith\u001b[0m \u001b[0mops\u001b[0m\u001b[0;34m.\u001b[0m\u001b[0mcolocate_with\u001b[0m\u001b[0;34m(\u001b[0m\u001b[0minput_dataset\u001b[0m\u001b[0;34m.\u001b[0m\u001b[0m_variant_tensor\u001b[0m\u001b[0;34m)\u001b[0m\u001b[0;34m:\u001b[0m\u001b[0;34m\u001b[0m\u001b[0;34m\u001b[0m\u001b[0m\n\u001b[0;32m---> 46\u001b[0;31m       variant_tensor = gen_dataset_ops.prefetch_dataset(\n\u001b[0m\u001b[1;32m     47\u001b[0m           \u001b[0minput_dataset\u001b[0m\u001b[0;34m.\u001b[0m\u001b[0m_variant_tensor\u001b[0m\u001b[0;34m,\u001b[0m\u001b[0;34m\u001b[0m\u001b[0;34m\u001b[0m\u001b[0m\n\u001b[1;32m     48\u001b[0m           \u001b[0mbuffer_size\u001b[0m\u001b[0;34m=\u001b[0m\u001b[0mself\u001b[0m\u001b[0;34m.\u001b[0m\u001b[0m_buffer_size\u001b[0m\u001b[0;34m,\u001b[0m\u001b[0;34m\u001b[0m\u001b[0;34m\u001b[0m\u001b[0m\n",
            "\u001b[0;32m/usr/local/lib/python3.10/dist-packages/tensorflow/python/ops/gen_dataset_ops.py\u001b[0m in \u001b[0;36mprefetch_dataset\u001b[0;34m(input_dataset, buffer_size, output_types, output_shapes, slack_period, legacy_autotune, buffer_size_min, metadata, name)\u001b[0m\n\u001b[1;32m   5988\u001b[0m   \u001b[0;32mif\u001b[0m \u001b[0mtld\u001b[0m\u001b[0;34m.\u001b[0m\u001b[0mis_eager\u001b[0m\u001b[0;34m:\u001b[0m\u001b[0;34m\u001b[0m\u001b[0;34m\u001b[0m\u001b[0m\n\u001b[1;32m   5989\u001b[0m     \u001b[0;32mtry\u001b[0m\u001b[0;34m:\u001b[0m\u001b[0;34m\u001b[0m\u001b[0;34m\u001b[0m\u001b[0m\n\u001b[0;32m-> 5990\u001b[0;31m       _result = pywrap_tfe.TFE_Py_FastPathExecute(\n\u001b[0m\u001b[1;32m   5991\u001b[0m         \u001b[0m_ctx\u001b[0m\u001b[0;34m,\u001b[0m \u001b[0;34m\"PrefetchDataset\"\u001b[0m\u001b[0;34m,\u001b[0m \u001b[0mname\u001b[0m\u001b[0;34m,\u001b[0m \u001b[0minput_dataset\u001b[0m\u001b[0;34m,\u001b[0m \u001b[0mbuffer_size\u001b[0m\u001b[0;34m,\u001b[0m\u001b[0;34m\u001b[0m\u001b[0;34m\u001b[0m\u001b[0m\n\u001b[1;32m   5992\u001b[0m         \u001b[0;34m\"output_types\"\u001b[0m\u001b[0;34m,\u001b[0m \u001b[0moutput_types\u001b[0m\u001b[0;34m,\u001b[0m \u001b[0;34m\"output_shapes\"\u001b[0m\u001b[0;34m,\u001b[0m \u001b[0moutput_shapes\u001b[0m\u001b[0;34m,\u001b[0m\u001b[0;34m\u001b[0m\u001b[0;34m\u001b[0m\u001b[0m\n",
            "\u001b[0;31mKeyboardInterrupt\u001b[0m: "
          ]
        },
        {
          "output_type": "display_data",
          "data": {
            "text/plain": [
              "<Figure size 640x480 with 1 Axes>"
            ],
            "image/png": "[encoded data removed]"
          },
          "metadata": {}
        }
      ]
    },
    {
      "cell_type": "code",
      "source": [],
      "metadata": {
        "id": "7qC4NAeV2UkO"
      },
      "execution_count": null,
      "outputs": []
    },
    {
      "cell_type": "markdown",
      "source": [
        "Visualisions le résultat"
      ],
      "metadata": {
        "id": "S4xIro-w2Y8T"
      }
    },
    {
      "cell_type": "code",
      "source": [
        "ENV_NAME = 'CartPole-v1'\n",
        "\n",
        "env = gym.make(ENV_NAME,render_mode='human')\n",
        "nb_actions = env.action_space.n # Nombre d'action\n",
        "nb_obs = env.observation_space.shape[0] # nombre de paramètre pour décrire l'environnement\n"
      ],
      "metadata": {
        "id": "DBqFKAbg2coQ"
      },
      "execution_count": null,
      "outputs": []
    },
    {
      "cell_type": "code",
      "source": [
        "# Pas besoin d'exécuter cette séquence si vous lancez le test après l'entrainement\n",
        "dqn = DQN(env.observation_space.shape[0],env.action_space.n,0,0)\n",
        "dqn.main_network.load_weights(\"cartpole-save.weights.h5\")"
      ],
      "metadata": {
        "id": "c_tTfwpW21eQ"
      },
      "execution_count": null,
      "outputs": []
    },
    {
      "cell_type": "code",
      "source": [
        "state=trans_state(env.reset()[0])\n",
        "done = False\n",
        "truncated=False\n",
        "Gain=0\n",
        "while not (done or truncated):\n",
        "    action = dqn.policy(state,0)\n",
        "    next_state, reward, done, truncated , _ = env.step(action)\n",
        "    Gain += reward\n",
        "    state=trans_state(next_state)\n",
        "print(f\"Gain {Gain}\")"
      ],
      "metadata": {
        "id": "qfgOwG-e22X8"
      },
      "execution_count": null,
      "outputs": []
    }
  ]
}